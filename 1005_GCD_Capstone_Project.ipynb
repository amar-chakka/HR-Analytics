{
  "nbformat": 4,
  "nbformat_minor": 0,
  "metadata": {
    "colab": {
      "name": "Capstone_EDA_ML_HR Analytics.ipynb",
      "provenance": [],
      "collapsed_sections": []
    },
    "kernelspec": {
      "name": "python3",
      "display_name": "Python 3"
    },
    "language_info": {
      "name": "python"
    }
  },
  "cells": [
    {
      "cell_type": "markdown",
      "metadata": {
        "id": "riFczMUYU-zX"
      },
      "source": [
        "<img src=\"https://github.com/insaid2018/Term-1/blob/master/Images/INSAID_Full%20Logo.png?raw=true\" width=\"240\" height=\"120\" />"
      ]
    },
    {
      "cell_type": "markdown",
      "metadata": {
        "id": "ew5GQd97AJSM"
      },
      "source": [
        "# Table of Content\n",
        "\n",
        "\n",
        "\n",
        "1. [Problem Statement](#section1)<br>\n",
        "2. [Dataset Description](#section2)<br>\n",
        "3. [Examine the Data](#section3)<br>\n",
        "4. [Description of what challenges are present in the Data](#section4)<br>\n",
        "5. [Resolve the challenges](#section5)<br>\n",
        "6. [EDA and Inferences](#section6)<br>\n",
        "7. [Feature Engineering](#section7)<br>\n",
        "8. [Build models](#section8)<br>\n",
        "9. [Evaluate models and finalize the mode](#section9)<br>\n",
        "\n"
      ]
    },
    {
      "cell_type": "markdown",
      "metadata": {
        "id": "jXxU1Kp_8BFG"
      },
      "source": [
        "<a id=section1></a>\n",
        "# 1. Problem Statement\n",
        "\n",
        "## Your client for this project is the HR Department at a software company.\n",
        "\n",
        "They want to try a new initiative to retain employees.\n",
        "The idea is to use data to predict whether an employee is likely to leave.\n",
        "Once these employees are identified, HR can be more proactive in reaching out to them before it's too late.\n",
        "They only want to deal with the data that is related to permanent employees.\n",
        "\n",
        "## Current Practice\n",
        "Once an employee leaves, he or she is taken an interview with the name “exit interview” and shares reasons for leaving. The HR Department then tries and learns insights from the interview and makes changes accordingly.\n",
        "\n",
        "##This suffers from the following problems:\n",
        "\n",
        "This approach is that it's too haphazard. The quality of insight gained from an interview depends heavily on the skill of the interviewer.\n",
        "The second problem is these insights can't be aggregated and interlaced across all employees who have left.\n",
        "The third is that it is too late by the time the proposed policy changes take effect.\n",
        "\n",
        "###The HR department has hired you as data science consultants. They want to supplement their exit interviews with a more proactive approach"
      ]
    },
    {
      "cell_type": "markdown",
      "metadata": {
        "id": "Zsyu7CfJ8iik"
      },
      "source": [
        "<a id=section2></a>\n",
        "#2. Dataset Description\n",
        "\n",
        "The Business Intelligence Analysts of the Company provided you three datasets that contain information about past employees and their status (still employed or already left).\n",
        "\n",
        "## department_data\n",
        "This dataset contains information about each department. The schema of the dataset is as follows:\n",
        "\n",
        "### dept_id – Unique Department Code\n",
        "### dept_name – Name of the Department\n",
        "### dept_head – Name of the Head of the Department\n",
        "\n",
        "#employee_details_data\n",
        "This dataset consists of Employee ID, their Age, Gender and Marital Status. The schema of this dataset is as follows:\n",
        "\n",
        "### employee_id – Unique ID Number for each employee\n",
        "### age – Age of the employee\n",
        "### gender – Gender of the employee\n",
        "### marital_status – Marital Status of the employee\n",
        "\n",
        "## employee_data\n",
        "This dataset consists of each employee’s Administrative Information, Workload Information, Mutual Evaluation Information and Status.\n",
        "\n",
        "## Target variable\n",
        "\n",
        "### status – Current employment status (Employed / Left)\n",
        "Administrative information\n",
        "\n",
        "### department – Department to which the employees belong(ed) to\n",
        "### salary – Salary level with respect to rest of their department\n",
        "### tenure – Number of years at the company\n",
        "### recently_promoted – Was the employee promoted in the last 3 years?\n",
        "### employee_id – Unique ID Number for each employee\n",
        "\n",
        "## Workload information\n",
        "\n",
        "### n_projects – Number of projects employee has worked on\n",
        "### avg_monthly_hrs – Average number of hours worked per month\n",
        "\n",
        "## Mutual evaluation information\n",
        "\n",
        "### satisfaction – Score for employee’s satisfaction with the company (higher is better)\n",
        "### last_evaluation – Score for most recent evaluation of employee (higher is better)\n",
        "### filed_complaint – Has the employee filed a formal complaint in the last 3 years?\n"
      ]
    },
    {
      "cell_type": "code",
      "metadata": {
        "colab": {
          "base_uri": "https://localhost:8080/"
        },
        "id": "_Poq2XwAT1ez",
        "outputId": "9263e110-6c2d-4674-fdb1-93706c08a55d"
      },
      "source": [
        "!pip install mysql-connector-python"
      ],
      "execution_count": 1,
      "outputs": [
        {
          "output_type": "stream",
          "name": "stdout",
          "text": [
            "Collecting mysql-connector-python\n",
            "  Downloading mysql_connector_python-8.0.27-1commercial-cp37-cp37m-manylinux1_x86_64.whl (37.5 MB)\n",
            "\u001b[K     |████████████████████████████████| 37.5 MB 58 kB/s \n",
            "\u001b[?25hRequirement already satisfied: protobuf>=3.0.0 in /usr/local/lib/python3.7/dist-packages (from mysql-connector-python) (3.17.3)\n",
            "Requirement already satisfied: six>=1.9 in /usr/local/lib/python3.7/dist-packages (from protobuf>=3.0.0->mysql-connector-python) (1.15.0)\n",
            "Installing collected packages: mysql-connector-python\n",
            "Successfully installed mysql-connector-python-8.0.27\n"
          ]
        }
      ]
    },
    {
      "cell_type": "code",
      "metadata": {
        "id": "8BQjQQY7UPO7"
      },
      "source": [
        "import mysql.connector \n",
        "import pandas as pd\n",
        "import seaborn as sns"
      ],
      "execution_count": 2,
      "outputs": []
    },
    {
      "cell_type": "code",
      "metadata": {
        "id": "jWINZiR2_v6_"
      },
      "source": [
        "# To supress all the warnings\n",
        "import warnings\n",
        "warnings.filterwarnings(\"ignore\")"
      ],
      "execution_count": 3,
      "outputs": []
    },
    {
      "cell_type": "code",
      "metadata": {
        "id": "rgLLo_asU143"
      },
      "source": [
        "myconnection1 = mysql.connector.connect(host='cpanel.insaid.co', database='Capstone2', user='student', password='student')\n",
        "mycursor1 = myconnection1.cursor()"
      ],
      "execution_count": 4,
      "outputs": []
    },
    {
      "cell_type": "markdown",
      "metadata": {
        "id": "VOtsvL479x4s"
      },
      "source": [
        "# 3. Loading the Data"
      ]
    },
    {
      "cell_type": "code",
      "metadata": {
        "id": "IMBapZHXfUHo"
      },
      "source": [
        "mycursor1.execute('SELECT * FROM department_data')\n",
        "dept_table = mycursor1.fetchall()\n",
        "df_dept_data = pd.DataFrame(data = dept_table, columns=mycursor1.column_names)"
      ],
      "execution_count": 5,
      "outputs": []
    },
    {
      "cell_type": "code",
      "metadata": {
        "colab": {
          "base_uri": "https://localhost:8080/",
          "height": 390
        },
        "id": "P1-hPSS4fHuP",
        "outputId": "c7238dfb-575a-48df-edb5-f857f0dee969"
      },
      "source": [
        "df_dept_data.head(15)"
      ],
      "execution_count": 6,
      "outputs": [
        {
          "output_type": "execute_result",
          "data": {
            "text/html": [
              "<div>\n",
              "<style scoped>\n",
              "    .dataframe tbody tr th:only-of-type {\n",
              "        vertical-align: middle;\n",
              "    }\n",
              "\n",
              "    .dataframe tbody tr th {\n",
              "        vertical-align: top;\n",
              "    }\n",
              "\n",
              "    .dataframe thead th {\n",
              "        text-align: right;\n",
              "    }\n",
              "</style>\n",
              "<table border=\"1\" class=\"dataframe\">\n",
              "  <thead>\n",
              "    <tr style=\"text-align: right;\">\n",
              "      <th></th>\n",
              "      <th>dept_id</th>\n",
              "      <th>dept_name</th>\n",
              "      <th>dept_head</th>\n",
              "    </tr>\n",
              "  </thead>\n",
              "  <tbody>\n",
              "    <tr>\n",
              "      <th>0</th>\n",
              "      <td>D00-IT</td>\n",
              "      <td>IT</td>\n",
              "      <td>Henry Adey</td>\n",
              "    </tr>\n",
              "    <tr>\n",
              "      <th>1</th>\n",
              "      <td>D00-SS</td>\n",
              "      <td>Sales</td>\n",
              "      <td>Edward J Bayley</td>\n",
              "    </tr>\n",
              "    <tr>\n",
              "      <th>2</th>\n",
              "      <td>D00-TP</td>\n",
              "      <td>Temp</td>\n",
              "      <td>Micheal Zachrey</td>\n",
              "    </tr>\n",
              "    <tr>\n",
              "      <th>3</th>\n",
              "      <td>D00-ENG</td>\n",
              "      <td>Engineering</td>\n",
              "      <td>Sushant Raghunathan K</td>\n",
              "    </tr>\n",
              "    <tr>\n",
              "      <th>4</th>\n",
              "      <td>D00-SP</td>\n",
              "      <td>Support</td>\n",
              "      <td>Amelia Westray</td>\n",
              "    </tr>\n",
              "    <tr>\n",
              "      <th>5</th>\n",
              "      <td>D00-FN</td>\n",
              "      <td>Finance</td>\n",
              "      <td>Aanchal J</td>\n",
              "    </tr>\n",
              "    <tr>\n",
              "      <th>6</th>\n",
              "      <td>D00-PR</td>\n",
              "      <td>Procurement</td>\n",
              "      <td>Louie Viles</td>\n",
              "    </tr>\n",
              "    <tr>\n",
              "      <th>7</th>\n",
              "      <td>D00-AD</td>\n",
              "      <td>Admin</td>\n",
              "      <td>Evelyn Tolson</td>\n",
              "    </tr>\n",
              "    <tr>\n",
              "      <th>8</th>\n",
              "      <td>D00-MN</td>\n",
              "      <td>Management</td>\n",
              "      <td>Ellie Trafton</td>\n",
              "    </tr>\n",
              "    <tr>\n",
              "      <th>9</th>\n",
              "      <td>D00-MT</td>\n",
              "      <td>Marketing</td>\n",
              "      <td>Reuben Swann</td>\n",
              "    </tr>\n",
              "    <tr>\n",
              "      <th>10</th>\n",
              "      <td>D00-PD</td>\n",
              "      <td>Product</td>\n",
              "      <td>Darcy Staines</td>\n",
              "    </tr>\n",
              "  </tbody>\n",
              "</table>\n",
              "</div>"
            ],
            "text/plain": [
              "    dept_id    dept_name              dept_head\n",
              "0    D00-IT           IT             Henry Adey\n",
              "1    D00-SS        Sales        Edward J Bayley\n",
              "2    D00-TP         Temp        Micheal Zachrey\n",
              "3   D00-ENG  Engineering  Sushant Raghunathan K\n",
              "4    D00-SP      Support         Amelia Westray\n",
              "5    D00-FN      Finance              Aanchal J\n",
              "6    D00-PR  Procurement            Louie Viles\n",
              "7    D00-AD        Admin          Evelyn Tolson\n",
              "8    D00-MN   Management          Ellie Trafton\n",
              "9    D00-MT    Marketing           Reuben Swann\n",
              "10   D00-PD      Product          Darcy Staines"
            ]
          },
          "metadata": {},
          "execution_count": 6
        }
      ]
    },
    {
      "cell_type": "code",
      "metadata": {
        "colab": {
          "base_uri": "https://localhost:8080/"
        },
        "id": "9bsqcdJ6jDPR",
        "outputId": "60bdb275-3d13-4fc6-ac19-7cfbdc77b0f3"
      },
      "source": [
        "df_dept_data.info()"
      ],
      "execution_count": 7,
      "outputs": [
        {
          "output_type": "stream",
          "name": "stdout",
          "text": [
            "<class 'pandas.core.frame.DataFrame'>\n",
            "RangeIndex: 11 entries, 0 to 10\n",
            "Data columns (total 3 columns):\n",
            " #   Column     Non-Null Count  Dtype \n",
            "---  ------     --------------  ----- \n",
            " 0   dept_id    11 non-null     object\n",
            " 1   dept_name  11 non-null     object\n",
            " 2   dept_head  11 non-null     object\n",
            "dtypes: object(3)\n",
            "memory usage: 392.0+ bytes\n"
          ]
        }
      ]
    },
    {
      "cell_type": "markdown",
      "metadata": {
        "id": "Ofa2NdqnwF8f"
      },
      "source": [
        "There are 11 different departments in the \"department_data\" table. No dulicates."
      ]
    },
    {
      "cell_type": "code",
      "metadata": {
        "id": "Per-BKAxg2wp"
      },
      "source": [
        "mycursor1.execute('SELECT * FROM employee_details_data')\n",
        "emp_details_table = mycursor1.fetchall()\n",
        "df_emp_details_data = pd.DataFrame(data= emp_details_table, columns=mycursor1.column_names)"
      ],
      "execution_count": 8,
      "outputs": []
    },
    {
      "cell_type": "code",
      "metadata": {
        "colab": {
          "base_uri": "https://localhost:8080/",
          "height": 359
        },
        "id": "sw2neoTOhkOo",
        "outputId": "a8895d49-4f3e-4364-fce7-ad0eb85d603b"
      },
      "source": [
        "df_emp_details_data.head(10)"
      ],
      "execution_count": 9,
      "outputs": [
        {
          "output_type": "execute_result",
          "data": {
            "text/html": [
              "<div>\n",
              "<style scoped>\n",
              "    .dataframe tbody tr th:only-of-type {\n",
              "        vertical-align: middle;\n",
              "    }\n",
              "\n",
              "    .dataframe tbody tr th {\n",
              "        vertical-align: top;\n",
              "    }\n",
              "\n",
              "    .dataframe thead th {\n",
              "        text-align: right;\n",
              "    }\n",
              "</style>\n",
              "<table border=\"1\" class=\"dataframe\">\n",
              "  <thead>\n",
              "    <tr style=\"text-align: right;\">\n",
              "      <th></th>\n",
              "      <th>employee_id</th>\n",
              "      <th>age</th>\n",
              "      <th>gender</th>\n",
              "      <th>marital_status</th>\n",
              "    </tr>\n",
              "  </thead>\n",
              "  <tbody>\n",
              "    <tr>\n",
              "      <th>0</th>\n",
              "      <td>113558</td>\n",
              "      <td>43</td>\n",
              "      <td>Male</td>\n",
              "      <td>Married</td>\n",
              "    </tr>\n",
              "    <tr>\n",
              "      <th>1</th>\n",
              "      <td>112256</td>\n",
              "      <td>24</td>\n",
              "      <td>Female</td>\n",
              "      <td>Unmarried</td>\n",
              "    </tr>\n",
              "    <tr>\n",
              "      <th>2</th>\n",
              "      <td>112586</td>\n",
              "      <td>22</td>\n",
              "      <td>Female</td>\n",
              "      <td>Unmarried</td>\n",
              "    </tr>\n",
              "    <tr>\n",
              "      <th>3</th>\n",
              "      <td>108071</td>\n",
              "      <td>36</td>\n",
              "      <td>Male</td>\n",
              "      <td>Married</td>\n",
              "    </tr>\n",
              "    <tr>\n",
              "      <th>4</th>\n",
              "      <td>116915</td>\n",
              "      <td>38</td>\n",
              "      <td>Male</td>\n",
              "      <td>Married</td>\n",
              "    </tr>\n",
              "    <tr>\n",
              "      <th>5</th>\n",
              "      <td>104555</td>\n",
              "      <td>22</td>\n",
              "      <td>Male</td>\n",
              "      <td>Unmarried</td>\n",
              "    </tr>\n",
              "    <tr>\n",
              "      <th>6</th>\n",
              "      <td>104706</td>\n",
              "      <td>51</td>\n",
              "      <td>Male</td>\n",
              "      <td>Married</td>\n",
              "    </tr>\n",
              "    <tr>\n",
              "      <th>7</th>\n",
              "      <td>118536</td>\n",
              "      <td>54</td>\n",
              "      <td>Male</td>\n",
              "      <td>Married</td>\n",
              "    </tr>\n",
              "    <tr>\n",
              "      <th>8</th>\n",
              "      <td>111712</td>\n",
              "      <td>43</td>\n",
              "      <td>Male</td>\n",
              "      <td>Married</td>\n",
              "    </tr>\n",
              "    <tr>\n",
              "      <th>9</th>\n",
              "      <td>119150</td>\n",
              "      <td>49</td>\n",
              "      <td>Male</td>\n",
              "      <td>Married</td>\n",
              "    </tr>\n",
              "  </tbody>\n",
              "</table>\n",
              "</div>"
            ],
            "text/plain": [
              "   employee_id  age  gender marital_status\n",
              "0       113558   43    Male        Married\n",
              "1       112256   24  Female      Unmarried\n",
              "2       112586   22  Female      Unmarried\n",
              "3       108071   36    Male        Married\n",
              "4       116915   38    Male        Married\n",
              "5       104555   22    Male      Unmarried\n",
              "6       104706   51    Male        Married\n",
              "7       118536   54    Male        Married\n",
              "8       111712   43    Male        Married\n",
              "9       119150   49    Male        Married"
            ]
          },
          "metadata": {},
          "execution_count": 9
        }
      ]
    },
    {
      "cell_type": "code",
      "metadata": {
        "colab": {
          "base_uri": "https://localhost:8080/"
        },
        "id": "fufQ3J4-jbu7",
        "outputId": "235137e2-0798-4a0b-d998-a959afd73afe"
      },
      "source": [
        "df_emp_details_data.info()"
      ],
      "execution_count": 10,
      "outputs": [
        {
          "output_type": "stream",
          "name": "stdout",
          "text": [
            "<class 'pandas.core.frame.DataFrame'>\n",
            "RangeIndex: 14245 entries, 0 to 14244\n",
            "Data columns (total 4 columns):\n",
            " #   Column          Non-Null Count  Dtype \n",
            "---  ------          --------------  ----- \n",
            " 0   employee_id     14245 non-null  int64 \n",
            " 1   age             14245 non-null  int64 \n",
            " 2   gender          14245 non-null  object\n",
            " 3   marital_status  14245 non-null  object\n",
            "dtypes: int64(2), object(2)\n",
            "memory usage: 445.3+ KB\n"
          ]
        }
      ]
    },
    {
      "cell_type": "code",
      "metadata": {
        "colab": {
          "base_uri": "https://localhost:8080/",
          "height": 297
        },
        "id": "5nyc1v5blA4g",
        "outputId": "871c1f20-9030-4d8f-f38d-d4643e07db6f"
      },
      "source": [
        "df_emp_details_data.describe()"
      ],
      "execution_count": 11,
      "outputs": [
        {
          "output_type": "execute_result",
          "data": {
            "text/html": [
              "<div>\n",
              "<style scoped>\n",
              "    .dataframe tbody tr th:only-of-type {\n",
              "        vertical-align: middle;\n",
              "    }\n",
              "\n",
              "    .dataframe tbody tr th {\n",
              "        vertical-align: top;\n",
              "    }\n",
              "\n",
              "    .dataframe thead th {\n",
              "        text-align: right;\n",
              "    }\n",
              "</style>\n",
              "<table border=\"1\" class=\"dataframe\">\n",
              "  <thead>\n",
              "    <tr style=\"text-align: right;\">\n",
              "      <th></th>\n",
              "      <th>employee_id</th>\n",
              "      <th>age</th>\n",
              "    </tr>\n",
              "  </thead>\n",
              "  <tbody>\n",
              "    <tr>\n",
              "      <th>count</th>\n",
              "      <td>14245.000000</td>\n",
              "      <td>14245.000000</td>\n",
              "    </tr>\n",
              "    <tr>\n",
              "      <th>mean</th>\n",
              "      <td>112123.050544</td>\n",
              "      <td>32.889926</td>\n",
              "    </tr>\n",
              "    <tr>\n",
              "      <th>std</th>\n",
              "      <td>8500.457343</td>\n",
              "      <td>9.970834</td>\n",
              "    </tr>\n",
              "    <tr>\n",
              "      <th>min</th>\n",
              "      <td>100101.000000</td>\n",
              "      <td>22.000000</td>\n",
              "    </tr>\n",
              "    <tr>\n",
              "      <th>25%</th>\n",
              "      <td>105775.000000</td>\n",
              "      <td>24.000000</td>\n",
              "    </tr>\n",
              "    <tr>\n",
              "      <th>50%</th>\n",
              "      <td>111298.000000</td>\n",
              "      <td>29.000000</td>\n",
              "    </tr>\n",
              "    <tr>\n",
              "      <th>75%</th>\n",
              "      <td>116658.000000</td>\n",
              "      <td>41.000000</td>\n",
              "    </tr>\n",
              "    <tr>\n",
              "      <th>max</th>\n",
              "      <td>148988.000000</td>\n",
              "      <td>57.000000</td>\n",
              "    </tr>\n",
              "  </tbody>\n",
              "</table>\n",
              "</div>"
            ],
            "text/plain": [
              "         employee_id           age\n",
              "count   14245.000000  14245.000000\n",
              "mean   112123.050544     32.889926\n",
              "std      8500.457343      9.970834\n",
              "min    100101.000000     22.000000\n",
              "25%    105775.000000     24.000000\n",
              "50%    111298.000000     29.000000\n",
              "75%    116658.000000     41.000000\n",
              "max    148988.000000     57.000000"
            ]
          },
          "metadata": {},
          "execution_count": 11
        }
      ]
    },
    {
      "cell_type": "code",
      "metadata": {
        "colab": {
          "base_uri": "https://localhost:8080/"
        },
        "id": "RvFYDXXYlQZr",
        "outputId": "d8755f88-b385-4556-9410-643b7ec39a20"
      },
      "source": [
        "df_emp_details_data.employee_id.nunique()"
      ],
      "execution_count": 12,
      "outputs": [
        {
          "output_type": "execute_result",
          "data": {
            "text/plain": [
              "14245"
            ]
          },
          "metadata": {},
          "execution_count": 12
        }
      ]
    },
    {
      "cell_type": "markdown",
      "metadata": {
        "id": "dlv0frYzwk7q"
      },
      "source": [
        "### There are total of 14245 unique emploee IDs in employee_details_data table. The IDs are in the range of 100101 to 148988.\n",
        "\n",
        "### From these employees, minimum age is 22 and max is 57. Which is acceptable range for employement. No null values in age column.\n",
        "\n",
        "### gender & marital_status columns have valid values only."
      ]
    },
    {
      "cell_type": "code",
      "metadata": {
        "id": "NzilmlxZiBEc"
      },
      "source": [
        "mycursor1.execute('SELECT * from \temployee_data')\n",
        "emp_data_table = mycursor1.fetchall()\n",
        "df_emp_data = pd.DataFrame(data=emp_data_table, columns=mycursor1.column_names)"
      ],
      "execution_count": 13,
      "outputs": []
    },
    {
      "cell_type": "code",
      "metadata": {
        "id": "zaZHC8kwAYKR"
      },
      "source": [
        "mycursor1.close()\n",
        "myconnection1.close()"
      ],
      "execution_count": 14,
      "outputs": []
    },
    {
      "cell_type": "markdown",
      "metadata": {
        "id": "Ae-c8mT096cC"
      },
      "source": [
        "# 4. Examine the Data"
      ]
    },
    {
      "cell_type": "code",
      "metadata": {
        "colab": {
          "base_uri": "https://localhost:8080/",
          "height": 204
        },
        "id": "kBq8oxu6ihtY",
        "outputId": "40b8a1f5-f012-42d0-cbe1-010037b6a83b"
      },
      "source": [
        "df_emp_data.head()"
      ],
      "execution_count": 15,
      "outputs": [
        {
          "output_type": "execute_result",
          "data": {
            "text/html": [
              "<div>\n",
              "<style scoped>\n",
              "    .dataframe tbody tr th:only-of-type {\n",
              "        vertical-align: middle;\n",
              "    }\n",
              "\n",
              "    .dataframe tbody tr th {\n",
              "        vertical-align: top;\n",
              "    }\n",
              "\n",
              "    .dataframe thead th {\n",
              "        text-align: right;\n",
              "    }\n",
              "</style>\n",
              "<table border=\"1\" class=\"dataframe\">\n",
              "  <thead>\n",
              "    <tr style=\"text-align: right;\">\n",
              "      <th></th>\n",
              "      <th>avg_monthly_hrs</th>\n",
              "      <th>department</th>\n",
              "      <th>filed_complaint</th>\n",
              "      <th>last_evaluation</th>\n",
              "      <th>n_projects</th>\n",
              "      <th>recently_promoted</th>\n",
              "      <th>salary</th>\n",
              "      <th>satisfaction</th>\n",
              "      <th>status</th>\n",
              "      <th>tenure</th>\n",
              "      <th>employee_id</th>\n",
              "    </tr>\n",
              "  </thead>\n",
              "  <tbody>\n",
              "    <tr>\n",
              "      <th>0</th>\n",
              "      <td>246.00</td>\n",
              "      <td>None</td>\n",
              "      <td>None</td>\n",
              "      <td>0.866838</td>\n",
              "      <td>6</td>\n",
              "      <td>NaN</td>\n",
              "      <td>medium</td>\n",
              "      <td>0.134415</td>\n",
              "      <td>Left</td>\n",
              "      <td>4.00</td>\n",
              "      <td>124467</td>\n",
              "    </tr>\n",
              "    <tr>\n",
              "      <th>1</th>\n",
              "      <td>134.00</td>\n",
              "      <td>None</td>\n",
              "      <td>None</td>\n",
              "      <td>0.555718</td>\n",
              "      <td>2</td>\n",
              "      <td>NaN</td>\n",
              "      <td>low</td>\n",
              "      <td>0.511041</td>\n",
              "      <td>Left</td>\n",
              "      <td>3.00</td>\n",
              "      <td>112210</td>\n",
              "    </tr>\n",
              "    <tr>\n",
              "      <th>2</th>\n",
              "      <td>156.00</td>\n",
              "      <td>D00-SS</td>\n",
              "      <td>1.00</td>\n",
              "      <td>0.474082</td>\n",
              "      <td>2</td>\n",
              "      <td>NaN</td>\n",
              "      <td>medium</td>\n",
              "      <td>0.405101</td>\n",
              "      <td>Left</td>\n",
              "      <td>3.00</td>\n",
              "      <td>126150</td>\n",
              "    </tr>\n",
              "    <tr>\n",
              "      <th>3</th>\n",
              "      <td>256.00</td>\n",
              "      <td>D00-SP</td>\n",
              "      <td>None</td>\n",
              "      <td>0.961360</td>\n",
              "      <td>6</td>\n",
              "      <td>NaN</td>\n",
              "      <td>low</td>\n",
              "      <td>0.152974</td>\n",
              "      <td>Left</td>\n",
              "      <td>4.00</td>\n",
              "      <td>125346</td>\n",
              "    </tr>\n",
              "    <tr>\n",
              "      <th>4</th>\n",
              "      <td>146.00</td>\n",
              "      <td>D00-SS</td>\n",
              "      <td>None</td>\n",
              "      <td>0.507349</td>\n",
              "      <td>2</td>\n",
              "      <td>NaN</td>\n",
              "      <td>medium</td>\n",
              "      <td>0.434845</td>\n",
              "      <td>Left</td>\n",
              "      <td>3.00</td>\n",
              "      <td>113707</td>\n",
              "    </tr>\n",
              "  </tbody>\n",
              "</table>\n",
              "</div>"
            ],
            "text/plain": [
              "  avg_monthly_hrs department filed_complaint  ...  status  tenure  employee_id\n",
              "0          246.00       None            None  ...    Left    4.00       124467\n",
              "1          134.00       None            None  ...    Left    3.00       112210\n",
              "2          156.00     D00-SS            1.00  ...    Left    3.00       126150\n",
              "3          256.00     D00-SP            None  ...    Left    4.00       125346\n",
              "4          146.00     D00-SS            None  ...    Left    3.00       113707\n",
              "\n",
              "[5 rows x 11 columns]"
            ]
          },
          "metadata": {},
          "execution_count": 15
        }
      ]
    },
    {
      "cell_type": "code",
      "metadata": {
        "colab": {
          "base_uri": "https://localhost:8080/"
        },
        "id": "1sgjqPoWjjVl",
        "outputId": "cfed2baa-bab3-4d40-84d5-c415d52e7597"
      },
      "source": [
        "df_emp_data.info()"
      ],
      "execution_count": 16,
      "outputs": [
        {
          "output_type": "stream",
          "name": "stdout",
          "text": [
            "<class 'pandas.core.frame.DataFrame'>\n",
            "RangeIndex: 14150 entries, 0 to 14149\n",
            "Data columns (total 11 columns):\n",
            " #   Column             Non-Null Count  Dtype  \n",
            "---  ------             --------------  -----  \n",
            " 0   avg_monthly_hrs    14150 non-null  object \n",
            " 1   department         13443 non-null  object \n",
            " 2   filed_complaint    2046 non-null   object \n",
            " 3   last_evaluation    12663 non-null  float64\n",
            " 4   n_projects         14150 non-null  int64  \n",
            " 5   recently_promoted  297 non-null    float64\n",
            " 6   salary             14150 non-null  object \n",
            " 7   satisfaction       14000 non-null  float64\n",
            " 8   status             14150 non-null  object \n",
            " 9   tenure             14000 non-null  object \n",
            " 10  employee_id        14150 non-null  int64  \n",
            "dtypes: float64(3), int64(2), object(6)\n",
            "memory usage: 1.2+ MB\n"
          ]
        }
      ]
    },
    {
      "cell_type": "code",
      "metadata": {
        "colab": {
          "base_uri": "https://localhost:8080/",
          "height": 297
        },
        "id": "DJofeevp3jJ6",
        "outputId": "9c00b227-98b2-4158-f822-61a75270e219"
      },
      "source": [
        "df_emp_data.describe()"
      ],
      "execution_count": 17,
      "outputs": [
        {
          "output_type": "execute_result",
          "data": {
            "text/html": [
              "<div>\n",
              "<style scoped>\n",
              "    .dataframe tbody tr th:only-of-type {\n",
              "        vertical-align: middle;\n",
              "    }\n",
              "\n",
              "    .dataframe tbody tr th {\n",
              "        vertical-align: top;\n",
              "    }\n",
              "\n",
              "    .dataframe thead th {\n",
              "        text-align: right;\n",
              "    }\n",
              "</style>\n",
              "<table border=\"1\" class=\"dataframe\">\n",
              "  <thead>\n",
              "    <tr style=\"text-align: right;\">\n",
              "      <th></th>\n",
              "      <th>last_evaluation</th>\n",
              "      <th>n_projects</th>\n",
              "      <th>recently_promoted</th>\n",
              "      <th>satisfaction</th>\n",
              "      <th>employee_id</th>\n",
              "    </tr>\n",
              "  </thead>\n",
              "  <tbody>\n",
              "    <tr>\n",
              "      <th>count</th>\n",
              "      <td>12663.000000</td>\n",
              "      <td>14150.000000</td>\n",
              "      <td>297.0</td>\n",
              "      <td>14000.000000</td>\n",
              "      <td>14150.000000</td>\n",
              "    </tr>\n",
              "    <tr>\n",
              "      <th>mean</th>\n",
              "      <td>0.718399</td>\n",
              "      <td>3.778304</td>\n",
              "      <td>1.0</td>\n",
              "      <td>0.621212</td>\n",
              "      <td>112080.750247</td>\n",
              "    </tr>\n",
              "    <tr>\n",
              "      <th>std</th>\n",
              "      <td>0.173108</td>\n",
              "      <td>1.250162</td>\n",
              "      <td>0.0</td>\n",
              "      <td>0.250482</td>\n",
              "      <td>8748.202856</td>\n",
              "    </tr>\n",
              "    <tr>\n",
              "      <th>min</th>\n",
              "      <td>0.316175</td>\n",
              "      <td>1.000000</td>\n",
              "      <td>1.0</td>\n",
              "      <td>0.040058</td>\n",
              "      <td>0.000000</td>\n",
              "    </tr>\n",
              "    <tr>\n",
              "      <th>25%</th>\n",
              "      <td>0.563711</td>\n",
              "      <td>3.000000</td>\n",
              "      <td>1.0</td>\n",
              "      <td>0.450356</td>\n",
              "      <td>105772.500000</td>\n",
              "    </tr>\n",
              "    <tr>\n",
              "      <th>50%</th>\n",
              "      <td>0.724731</td>\n",
              "      <td>4.000000</td>\n",
              "      <td>1.0</td>\n",
              "      <td>0.652394</td>\n",
              "      <td>111291.500000</td>\n",
              "    </tr>\n",
              "    <tr>\n",
              "      <th>75%</th>\n",
              "      <td>0.871409</td>\n",
              "      <td>5.000000</td>\n",
              "      <td>1.0</td>\n",
              "      <td>0.824925</td>\n",
              "      <td>116650.750000</td>\n",
              "    </tr>\n",
              "    <tr>\n",
              "      <th>max</th>\n",
              "      <td>1.000000</td>\n",
              "      <td>7.000000</td>\n",
              "      <td>1.0</td>\n",
              "      <td>1.000000</td>\n",
              "      <td>148988.000000</td>\n",
              "    </tr>\n",
              "  </tbody>\n",
              "</table>\n",
              "</div>"
            ],
            "text/plain": [
              "       last_evaluation    n_projects  ...  satisfaction    employee_id\n",
              "count     12663.000000  14150.000000  ...  14000.000000   14150.000000\n",
              "mean          0.718399      3.778304  ...      0.621212  112080.750247\n",
              "std           0.173108      1.250162  ...      0.250482    8748.202856\n",
              "min           0.316175      1.000000  ...      0.040058       0.000000\n",
              "25%           0.563711      3.000000  ...      0.450356  105772.500000\n",
              "50%           0.724731      4.000000  ...      0.652394  111291.500000\n",
              "75%           0.871409      5.000000  ...      0.824925  116650.750000\n",
              "max           1.000000      7.000000  ...      1.000000  148988.000000\n",
              "\n",
              "[8 rows x 5 columns]"
            ]
          },
          "metadata": {},
          "execution_count": 17
        }
      ]
    },
    {
      "cell_type": "markdown",
      "metadata": {
        "id": "zTwXU8zh3vKK"
      },
      "source": [
        "There are rows with 0 value in employee_id column, which is invalid so need to drop those rows."
      ]
    },
    {
      "cell_type": "code",
      "metadata": {
        "id": "WzHtMmUP9888"
      },
      "source": [
        "df_emp_data.drop(df_emp_data[df_emp_data['employee_id']==0].index, inplace=True)"
      ],
      "execution_count": 18,
      "outputs": []
    },
    {
      "cell_type": "code",
      "metadata": {
        "colab": {
          "base_uri": "https://localhost:8080/"
        },
        "id": "EjrUGg8v-BFJ",
        "outputId": "b0d79d9c-5e51-459e-9df2-e8f610e16603"
      },
      "source": [
        "df_emp_data.info()"
      ],
      "execution_count": 19,
      "outputs": [
        {
          "output_type": "stream",
          "name": "stdout",
          "text": [
            "<class 'pandas.core.frame.DataFrame'>\n",
            "Int64Index: 14145 entries, 0 to 14149\n",
            "Data columns (total 11 columns):\n",
            " #   Column             Non-Null Count  Dtype  \n",
            "---  ------             --------------  -----  \n",
            " 0   avg_monthly_hrs    14145 non-null  object \n",
            " 1   department         13439 non-null  object \n",
            " 2   filed_complaint    2046 non-null   object \n",
            " 3   last_evaluation    12658 non-null  float64\n",
            " 4   n_projects         14145 non-null  int64  \n",
            " 5   recently_promoted  297 non-null    float64\n",
            " 6   salary             14145 non-null  object \n",
            " 7   satisfaction       13995 non-null  float64\n",
            " 8   status             14145 non-null  object \n",
            " 9   tenure             13995 non-null  object \n",
            " 10  employee_id        14145 non-null  int64  \n",
            "dtypes: float64(3), int64(2), object(6)\n",
            "memory usage: 1.3+ MB\n"
          ]
        }
      ]
    },
    {
      "cell_type": "code",
      "metadata": {
        "colab": {
          "base_uri": "https://localhost:8080/"
        },
        "id": "FVnd3rZwmCpW",
        "outputId": "7b21249e-7ba8-4fd9-ab34-b09758d31875"
      },
      "source": [
        "df_emp_data.employee_id.nunique()"
      ],
      "execution_count": 20,
      "outputs": [
        {
          "output_type": "execute_result",
          "data": {
            "text/plain": [
              "14116"
            ]
          },
          "metadata": {},
          "execution_count": 20
        }
      ]
    },
    {
      "cell_type": "code",
      "metadata": {
        "id": "lU5N7I15mL1O",
        "colab": {
          "base_uri": "https://localhost:8080/"
        },
        "outputId": "89e6845a-3798-4e56-ec1e-da07027d5d58"
      },
      "source": [
        "duplicate  = df_emp_data[df_emp_data.duplicated('employee_id')]\n",
        "len(duplicate)"
      ],
      "execution_count": 21,
      "outputs": [
        {
          "output_type": "execute_result",
          "data": {
            "text/plain": [
              "29"
            ]
          },
          "metadata": {},
          "execution_count": 21
        }
      ]
    },
    {
      "cell_type": "code",
      "metadata": {
        "id": "gfq8VHCbmvL4",
        "colab": {
          "base_uri": "https://localhost:8080/",
          "height": 948
        },
        "outputId": "8751460c-6d63-42e7-b93f-989f5b50f105"
      },
      "source": [
        "duplicate"
      ],
      "execution_count": 22,
      "outputs": [
        {
          "output_type": "execute_result",
          "data": {
            "text/html": [
              "<div>\n",
              "<style scoped>\n",
              "    .dataframe tbody tr th:only-of-type {\n",
              "        vertical-align: middle;\n",
              "    }\n",
              "\n",
              "    .dataframe tbody tr th {\n",
              "        vertical-align: top;\n",
              "    }\n",
              "\n",
              "    .dataframe thead th {\n",
              "        text-align: right;\n",
              "    }\n",
              "</style>\n",
              "<table border=\"1\" class=\"dataframe\">\n",
              "  <thead>\n",
              "    <tr style=\"text-align: right;\">\n",
              "      <th></th>\n",
              "      <th>avg_monthly_hrs</th>\n",
              "      <th>department</th>\n",
              "      <th>filed_complaint</th>\n",
              "      <th>last_evaluation</th>\n",
              "      <th>n_projects</th>\n",
              "      <th>recently_promoted</th>\n",
              "      <th>salary</th>\n",
              "      <th>satisfaction</th>\n",
              "      <th>status</th>\n",
              "      <th>tenure</th>\n",
              "      <th>employee_id</th>\n",
              "    </tr>\n",
              "  </thead>\n",
              "  <tbody>\n",
              "    <tr>\n",
              "      <th>14121</th>\n",
              "      <td>265.00</td>\n",
              "      <td>D00-MN</td>\n",
              "      <td>1.00</td>\n",
              "      <td>0.825672</td>\n",
              "      <td>3</td>\n",
              "      <td>NaN</td>\n",
              "      <td>low</td>\n",
              "      <td>0.545978</td>\n",
              "      <td>Employed</td>\n",
              "      <td>10.00</td>\n",
              "      <td>112373</td>\n",
              "    </tr>\n",
              "    <tr>\n",
              "      <th>14122</th>\n",
              "      <td>282.00</td>\n",
              "      <td>D00-SS</td>\n",
              "      <td>None</td>\n",
              "      <td>0.875427</td>\n",
              "      <td>6</td>\n",
              "      <td>NaN</td>\n",
              "      <td>low</td>\n",
              "      <td>0.065908</td>\n",
              "      <td>Left</td>\n",
              "      <td>4.00</td>\n",
              "      <td>116247</td>\n",
              "    </tr>\n",
              "    <tr>\n",
              "      <th>14123</th>\n",
              "      <td>206.00</td>\n",
              "      <td>D00-SS</td>\n",
              "      <td>None</td>\n",
              "      <td>1.000000</td>\n",
              "      <td>6</td>\n",
              "      <td>NaN</td>\n",
              "      <td>medium</td>\n",
              "      <td>0.783548</td>\n",
              "      <td>Left</td>\n",
              "      <td>5.00</td>\n",
              "      <td>112203</td>\n",
              "    </tr>\n",
              "    <tr>\n",
              "      <th>14124</th>\n",
              "      <td>161.00</td>\n",
              "      <td>D00-IT</td>\n",
              "      <td>None</td>\n",
              "      <td>0.715893</td>\n",
              "      <td>6</td>\n",
              "      <td>NaN</td>\n",
              "      <td>medium</td>\n",
              "      <td>0.867768</td>\n",
              "      <td>Left</td>\n",
              "      <td>4.00</td>\n",
              "      <td>108128</td>\n",
              "    </tr>\n",
              "    <tr>\n",
              "      <th>14125</th>\n",
              "      <td>163.00</td>\n",
              "      <td>D00-SP</td>\n",
              "      <td>None</td>\n",
              "      <td>0.486176</td>\n",
              "      <td>3</td>\n",
              "      <td>NaN</td>\n",
              "      <td>medium</td>\n",
              "      <td>0.832118</td>\n",
              "      <td>Employed</td>\n",
              "      <td>3.00</td>\n",
              "      <td>115446</td>\n",
              "    </tr>\n",
              "    <tr>\n",
              "      <th>14126</th>\n",
              "      <td>208.00</td>\n",
              "      <td>D00-FN</td>\n",
              "      <td>None</td>\n",
              "      <td>0.699756</td>\n",
              "      <td>4</td>\n",
              "      <td>NaN</td>\n",
              "      <td>low</td>\n",
              "      <td>0.476216</td>\n",
              "      <td>Employed</td>\n",
              "      <td>5.00</td>\n",
              "      <td>110546</td>\n",
              "    </tr>\n",
              "    <tr>\n",
              "      <th>14127</th>\n",
              "      <td>152.00</td>\n",
              "      <td>D00-MT</td>\n",
              "      <td>None</td>\n",
              "      <td>0.510016</td>\n",
              "      <td>3</td>\n",
              "      <td>NaN</td>\n",
              "      <td>low</td>\n",
              "      <td>0.826531</td>\n",
              "      <td>Employed</td>\n",
              "      <td>2.00</td>\n",
              "      <td>111968</td>\n",
              "    </tr>\n",
              "    <tr>\n",
              "      <th>14128</th>\n",
              "      <td>307.00</td>\n",
              "      <td>D00-IT</td>\n",
              "      <td>None</td>\n",
              "      <td>0.905708</td>\n",
              "      <td>7</td>\n",
              "      <td>NaN</td>\n",
              "      <td>low</td>\n",
              "      <td>0.125275</td>\n",
              "      <td>Left</td>\n",
              "      <td>4.00</td>\n",
              "      <td>111323</td>\n",
              "    </tr>\n",
              "    <tr>\n",
              "      <th>14129</th>\n",
              "      <td>212.00</td>\n",
              "      <td>D00-PD</td>\n",
              "      <td>None</td>\n",
              "      <td>0.773018</td>\n",
              "      <td>4</td>\n",
              "      <td>NaN</td>\n",
              "      <td>medium</td>\n",
              "      <td>0.829316</td>\n",
              "      <td>Employed</td>\n",
              "      <td>2.00</td>\n",
              "      <td>117454</td>\n",
              "    </tr>\n",
              "    <tr>\n",
              "      <th>14130</th>\n",
              "      <td>148.00</td>\n",
              "      <td>D00-MN</td>\n",
              "      <td>None</td>\n",
              "      <td>0.577112</td>\n",
              "      <td>3</td>\n",
              "      <td>NaN</td>\n",
              "      <td>high</td>\n",
              "      <td>0.481001</td>\n",
              "      <td>Employed</td>\n",
              "      <td>10.00</td>\n",
              "      <td>109425</td>\n",
              "    </tr>\n",
              "    <tr>\n",
              "      <th>14131</th>\n",
              "      <td>184.00</td>\n",
              "      <td>D00-MT</td>\n",
              "      <td>None</td>\n",
              "      <td>0.639866</td>\n",
              "      <td>5</td>\n",
              "      <td>NaN</td>\n",
              "      <td>medium</td>\n",
              "      <td>0.504388</td>\n",
              "      <td>Employed</td>\n",
              "      <td>4.00</td>\n",
              "      <td>119754</td>\n",
              "    </tr>\n",
              "    <tr>\n",
              "      <th>14132</th>\n",
              "      <td>132.00</td>\n",
              "      <td>D00-PD</td>\n",
              "      <td>None</td>\n",
              "      <td>1.000000</td>\n",
              "      <td>4</td>\n",
              "      <td>NaN</td>\n",
              "      <td>medium</td>\n",
              "      <td>1.000000</td>\n",
              "      <td>Employed</td>\n",
              "      <td>2.00</td>\n",
              "      <td>106813</td>\n",
              "    </tr>\n",
              "    <tr>\n",
              "      <th>14133</th>\n",
              "      <td>168.00</td>\n",
              "      <td>D00-SP</td>\n",
              "      <td>None</td>\n",
              "      <td>0.747792</td>\n",
              "      <td>2</td>\n",
              "      <td>NaN</td>\n",
              "      <td>low</td>\n",
              "      <td>0.869815</td>\n",
              "      <td>Employed</td>\n",
              "      <td>3.00</td>\n",
              "      <td>116850</td>\n",
              "    </tr>\n",
              "    <tr>\n",
              "      <th>14134</th>\n",
              "      <td>161.00</td>\n",
              "      <td>D00-SS</td>\n",
              "      <td>None</td>\n",
              "      <td>0.483513</td>\n",
              "      <td>2</td>\n",
              "      <td>NaN</td>\n",
              "      <td>low</td>\n",
              "      <td>0.416761</td>\n",
              "      <td>Left</td>\n",
              "      <td>3.00</td>\n",
              "      <td>122385</td>\n",
              "    </tr>\n",
              "    <tr>\n",
              "      <th>14135</th>\n",
              "      <td>136.00</td>\n",
              "      <td>D00-SS</td>\n",
              "      <td>None</td>\n",
              "      <td>0.645563</td>\n",
              "      <td>4</td>\n",
              "      <td>NaN</td>\n",
              "      <td>high</td>\n",
              "      <td>0.664039</td>\n",
              "      <td>Employed</td>\n",
              "      <td>3.00</td>\n",
              "      <td>104360</td>\n",
              "    </tr>\n",
              "    <tr>\n",
              "      <th>14136</th>\n",
              "      <td>261.00</td>\n",
              "      <td>D00-IT</td>\n",
              "      <td>1.00</td>\n",
              "      <td>0.465430</td>\n",
              "      <td>5</td>\n",
              "      <td>NaN</td>\n",
              "      <td>low</td>\n",
              "      <td>0.341498</td>\n",
              "      <td>Employed</td>\n",
              "      <td>6.00</td>\n",
              "      <td>109804</td>\n",
              "    </tr>\n",
              "    <tr>\n",
              "      <th>14137</th>\n",
              "      <td>181.00</td>\n",
              "      <td>D00-SS</td>\n",
              "      <td>1.00</td>\n",
              "      <td>0.703796</td>\n",
              "      <td>3</td>\n",
              "      <td>NaN</td>\n",
              "      <td>medium</td>\n",
              "      <td>0.870014</td>\n",
              "      <td>Employed</td>\n",
              "      <td>3.00</td>\n",
              "      <td>116209</td>\n",
              "    </tr>\n",
              "    <tr>\n",
              "      <th>14138</th>\n",
              "      <td>142.00</td>\n",
              "      <td>D00-SP</td>\n",
              "      <td>1.00</td>\n",
              "      <td>0.400566</td>\n",
              "      <td>4</td>\n",
              "      <td>NaN</td>\n",
              "      <td>low</td>\n",
              "      <td>0.393240</td>\n",
              "      <td>Employed</td>\n",
              "      <td>10.00</td>\n",
              "      <td>105625</td>\n",
              "    </tr>\n",
              "    <tr>\n",
              "      <th>14139</th>\n",
              "      <td>135.00</td>\n",
              "      <td>D00-SP</td>\n",
              "      <td>None</td>\n",
              "      <td>0.504764</td>\n",
              "      <td>2</td>\n",
              "      <td>NaN</td>\n",
              "      <td>low</td>\n",
              "      <td>0.500691</td>\n",
              "      <td>Left</td>\n",
              "      <td>3.00</td>\n",
              "      <td>116533</td>\n",
              "    </tr>\n",
              "    <tr>\n",
              "      <th>14140</th>\n",
              "      <td>133.00</td>\n",
              "      <td>D00-SS</td>\n",
              "      <td>None</td>\n",
              "      <td>0.986741</td>\n",
              "      <td>3</td>\n",
              "      <td>NaN</td>\n",
              "      <td>medium</td>\n",
              "      <td>0.617304</td>\n",
              "      <td>Employed</td>\n",
              "      <td>5.00</td>\n",
              "      <td>102701</td>\n",
              "    </tr>\n",
              "    <tr>\n",
              "      <th>14141</th>\n",
              "      <td>224.00</td>\n",
              "      <td>D00-FN</td>\n",
              "      <td>None</td>\n",
              "      <td>0.877647</td>\n",
              "      <td>3</td>\n",
              "      <td>NaN</td>\n",
              "      <td>medium</td>\n",
              "      <td>0.555114</td>\n",
              "      <td>Employed</td>\n",
              "      <td>3.00</td>\n",
              "      <td>110000</td>\n",
              "    </tr>\n",
              "    <tr>\n",
              "      <th>14142</th>\n",
              "      <td>233.00</td>\n",
              "      <td>D00-IT</td>\n",
              "      <td>None</td>\n",
              "      <td>0.940863</td>\n",
              "      <td>4</td>\n",
              "      <td>NaN</td>\n",
              "      <td>low</td>\n",
              "      <td>0.775472</td>\n",
              "      <td>Left</td>\n",
              "      <td>5.00</td>\n",
              "      <td>108535</td>\n",
              "    </tr>\n",
              "    <tr>\n",
              "      <th>14143</th>\n",
              "      <td>141.00</td>\n",
              "      <td>D00-FN</td>\n",
              "      <td>None</td>\n",
              "      <td>0.801055</td>\n",
              "      <td>3</td>\n",
              "      <td>NaN</td>\n",
              "      <td>low</td>\n",
              "      <td>0.624272</td>\n",
              "      <td>Employed</td>\n",
              "      <td>3.00</td>\n",
              "      <td>109085</td>\n",
              "    </tr>\n",
              "    <tr>\n",
              "      <th>14144</th>\n",
              "      <td>238.00</td>\n",
              "      <td>D00-SS</td>\n",
              "      <td>None</td>\n",
              "      <td>0.958633</td>\n",
              "      <td>3</td>\n",
              "      <td>NaN</td>\n",
              "      <td>medium</td>\n",
              "      <td>0.624658</td>\n",
              "      <td>Employed</td>\n",
              "      <td>2.00</td>\n",
              "      <td>108265</td>\n",
              "    </tr>\n",
              "    <tr>\n",
              "      <th>14145</th>\n",
              "      <td>245.00</td>\n",
              "      <td>D00-SS</td>\n",
              "      <td>None</td>\n",
              "      <td>0.850785</td>\n",
              "      <td>6</td>\n",
              "      <td>NaN</td>\n",
              "      <td>medium</td>\n",
              "      <td>0.225084</td>\n",
              "      <td>Employed</td>\n",
              "      <td>5.00</td>\n",
              "      <td>101809</td>\n",
              "    </tr>\n",
              "    <tr>\n",
              "      <th>14146</th>\n",
              "      <td>192.00</td>\n",
              "      <td>D00-SS</td>\n",
              "      <td>None</td>\n",
              "      <td>0.951901</td>\n",
              "      <td>3</td>\n",
              "      <td>NaN</td>\n",
              "      <td>medium</td>\n",
              "      <td>0.539834</td>\n",
              "      <td>Employed</td>\n",
              "      <td>3.00</td>\n",
              "      <td>116153</td>\n",
              "    </tr>\n",
              "    <tr>\n",
              "      <th>14147</th>\n",
              "      <td>175.00</td>\n",
              "      <td>D00-MN</td>\n",
              "      <td>None</td>\n",
              "      <td>0.854538</td>\n",
              "      <td>4</td>\n",
              "      <td>NaN</td>\n",
              "      <td>medium</td>\n",
              "      <td>0.934465</td>\n",
              "      <td>Employed</td>\n",
              "      <td>3.00</td>\n",
              "      <td>119780</td>\n",
              "    </tr>\n",
              "    <tr>\n",
              "      <th>14148</th>\n",
              "      <td>268.00</td>\n",
              "      <td>D00-MT</td>\n",
              "      <td>None</td>\n",
              "      <td>0.900887</td>\n",
              "      <td>5</td>\n",
              "      <td>NaN</td>\n",
              "      <td>medium</td>\n",
              "      <td>0.906613</td>\n",
              "      <td>Left</td>\n",
              "      <td>5.00</td>\n",
              "      <td>115325</td>\n",
              "    </tr>\n",
              "    <tr>\n",
              "      <th>14149</th>\n",
              "      <td>268.00</td>\n",
              "      <td>D00-IT</td>\n",
              "      <td>1.00</td>\n",
              "      <td>0.897098</td>\n",
              "      <td>2</td>\n",
              "      <td>NaN</td>\n",
              "      <td>low</td>\n",
              "      <td>0.459371</td>\n",
              "      <td>Employed</td>\n",
              "      <td>4.00</td>\n",
              "      <td>112312</td>\n",
              "    </tr>\n",
              "  </tbody>\n",
              "</table>\n",
              "</div>"
            ],
            "text/plain": [
              "      avg_monthly_hrs department filed_complaint  ...    status  tenure  employee_id\n",
              "14121          265.00     D00-MN            1.00  ...  Employed   10.00       112373\n",
              "14122          282.00     D00-SS            None  ...      Left    4.00       116247\n",
              "14123          206.00     D00-SS            None  ...      Left    5.00       112203\n",
              "14124          161.00     D00-IT            None  ...      Left    4.00       108128\n",
              "14125          163.00     D00-SP            None  ...  Employed    3.00       115446\n",
              "14126          208.00     D00-FN            None  ...  Employed    5.00       110546\n",
              "14127          152.00     D00-MT            None  ...  Employed    2.00       111968\n",
              "14128          307.00     D00-IT            None  ...      Left    4.00       111323\n",
              "14129          212.00     D00-PD            None  ...  Employed    2.00       117454\n",
              "14130          148.00     D00-MN            None  ...  Employed   10.00       109425\n",
              "14131          184.00     D00-MT            None  ...  Employed    4.00       119754\n",
              "14132          132.00     D00-PD            None  ...  Employed    2.00       106813\n",
              "14133          168.00     D00-SP            None  ...  Employed    3.00       116850\n",
              "14134          161.00     D00-SS            None  ...      Left    3.00       122385\n",
              "14135          136.00     D00-SS            None  ...  Employed    3.00       104360\n",
              "14136          261.00     D00-IT            1.00  ...  Employed    6.00       109804\n",
              "14137          181.00     D00-SS            1.00  ...  Employed    3.00       116209\n",
              "14138          142.00     D00-SP            1.00  ...  Employed   10.00       105625\n",
              "14139          135.00     D00-SP            None  ...      Left    3.00       116533\n",
              "14140          133.00     D00-SS            None  ...  Employed    5.00       102701\n",
              "14141          224.00     D00-FN            None  ...  Employed    3.00       110000\n",
              "14142          233.00     D00-IT            None  ...      Left    5.00       108535\n",
              "14143          141.00     D00-FN            None  ...  Employed    3.00       109085\n",
              "14144          238.00     D00-SS            None  ...  Employed    2.00       108265\n",
              "14145          245.00     D00-SS            None  ...  Employed    5.00       101809\n",
              "14146          192.00     D00-SS            None  ...  Employed    3.00       116153\n",
              "14147          175.00     D00-MN            None  ...  Employed    3.00       119780\n",
              "14148          268.00     D00-MT            None  ...      Left    5.00       115325\n",
              "14149          268.00     D00-IT            1.00  ...  Employed    4.00       112312\n",
              "\n",
              "[29 rows x 11 columns]"
            ]
          },
          "metadata": {},
          "execution_count": 22
        }
      ]
    },
    {
      "cell_type": "markdown",
      "metadata": {
        "id": "ofSXOf1en3I5"
      },
      "source": [
        "#### Total 14245 unique employee details in df_emp_details_data dataframe.\n",
        "\n",
        "#### Total 14150 entries  in df_emp_data dataframe.\n",
        "\n",
        "#### There are 5 rows with employee_id = 0, which is invalid so deleted those rows. Then number of entries will be 14145.\n",
        "\n",
        " #### Out of them, There are 29 dulicate rows in df_emp_data when looked at employee_id column. This means we have only data for 14116 unique employees in df_emp_data dataframe.\n",
        "\n",
        "\n"
      ]
    },
    {
      "cell_type": "code",
      "metadata": {
        "id": "ZtWOT8US2fn0"
      },
      "source": [
        "df_emp_data.drop_duplicates(subset=['employee_id'], keep='first',inplace=True)"
      ],
      "execution_count": 23,
      "outputs": []
    },
    {
      "cell_type": "code",
      "metadata": {
        "colab": {
          "base_uri": "https://localhost:8080/"
        },
        "id": "MESAGjLV21WZ",
        "outputId": "b022b3b5-f4b0-4b71-cfd7-3a2753871d4f"
      },
      "source": [
        "df_emp_data.info()"
      ],
      "execution_count": 24,
      "outputs": [
        {
          "output_type": "stream",
          "name": "stdout",
          "text": [
            "<class 'pandas.core.frame.DataFrame'>\n",
            "Int64Index: 14116 entries, 0 to 14120\n",
            "Data columns (total 11 columns):\n",
            " #   Column             Non-Null Count  Dtype  \n",
            "---  ------             --------------  -----  \n",
            " 0   avg_monthly_hrs    14116 non-null  object \n",
            " 1   department         13410 non-null  object \n",
            " 2   filed_complaint    2041 non-null   object \n",
            " 3   last_evaluation    12629 non-null  float64\n",
            " 4   n_projects         14116 non-null  int64  \n",
            " 5   recently_promoted  297 non-null    float64\n",
            " 6   salary             14116 non-null  object \n",
            " 7   satisfaction       13966 non-null  float64\n",
            " 8   status             14116 non-null  object \n",
            " 9   tenure             13966 non-null  object \n",
            " 10  employee_id        14116 non-null  int64  \n",
            "dtypes: float64(3), int64(2), object(6)\n",
            "memory usage: 1.3+ MB\n"
          ]
        }
      ]
    },
    {
      "cell_type": "code",
      "metadata": {
        "id": "3GFNTa1eG3j_"
      },
      "source": [
        "df_merged_emp = pd.merge(df_emp_details_data, df_emp_data, on='employee_id')"
      ],
      "execution_count": 25,
      "outputs": []
    },
    {
      "cell_type": "code",
      "metadata": {
        "colab": {
          "base_uri": "https://localhost:8080/",
          "height": 224
        },
        "id": "83kLqs9-I4a0",
        "outputId": "6fea231c-4842-4beb-b05d-73e8d4a43710"
      },
      "source": [
        "df_merged_emp.head()"
      ],
      "execution_count": 26,
      "outputs": [
        {
          "output_type": "execute_result",
          "data": {
            "text/html": [
              "<div>\n",
              "<style scoped>\n",
              "    .dataframe tbody tr th:only-of-type {\n",
              "        vertical-align: middle;\n",
              "    }\n",
              "\n",
              "    .dataframe tbody tr th {\n",
              "        vertical-align: top;\n",
              "    }\n",
              "\n",
              "    .dataframe thead th {\n",
              "        text-align: right;\n",
              "    }\n",
              "</style>\n",
              "<table border=\"1\" class=\"dataframe\">\n",
              "  <thead>\n",
              "    <tr style=\"text-align: right;\">\n",
              "      <th></th>\n",
              "      <th>employee_id</th>\n",
              "      <th>age</th>\n",
              "      <th>gender</th>\n",
              "      <th>marital_status</th>\n",
              "      <th>avg_monthly_hrs</th>\n",
              "      <th>department</th>\n",
              "      <th>filed_complaint</th>\n",
              "      <th>last_evaluation</th>\n",
              "      <th>n_projects</th>\n",
              "      <th>recently_promoted</th>\n",
              "      <th>salary</th>\n",
              "      <th>satisfaction</th>\n",
              "      <th>status</th>\n",
              "      <th>tenure</th>\n",
              "    </tr>\n",
              "  </thead>\n",
              "  <tbody>\n",
              "    <tr>\n",
              "      <th>0</th>\n",
              "      <td>113558</td>\n",
              "      <td>43</td>\n",
              "      <td>Male</td>\n",
              "      <td>Married</td>\n",
              "      <td>111.00</td>\n",
              "      <td>D00-PR</td>\n",
              "      <td>None</td>\n",
              "      <td>0.753977</td>\n",
              "      <td>5</td>\n",
              "      <td>1.0</td>\n",
              "      <td>medium</td>\n",
              "      <td>0.921208</td>\n",
              "      <td>Employed</td>\n",
              "      <td>4.00</td>\n",
              "    </tr>\n",
              "    <tr>\n",
              "      <th>1</th>\n",
              "      <td>112256</td>\n",
              "      <td>24</td>\n",
              "      <td>Female</td>\n",
              "      <td>Unmarried</td>\n",
              "      <td>201.00</td>\n",
              "      <td>D00-MN</td>\n",
              "      <td>None</td>\n",
              "      <td>0.964453</td>\n",
              "      <td>3</td>\n",
              "      <td>NaN</td>\n",
              "      <td>medium</td>\n",
              "      <td>0.568479</td>\n",
              "      <td>Employed</td>\n",
              "      <td>3.00</td>\n",
              "    </tr>\n",
              "    <tr>\n",
              "      <th>2</th>\n",
              "      <td>112586</td>\n",
              "      <td>22</td>\n",
              "      <td>Female</td>\n",
              "      <td>Unmarried</td>\n",
              "      <td>239.00</td>\n",
              "      <td>D00-SS</td>\n",
              "      <td>None</td>\n",
              "      <td>0.756458</td>\n",
              "      <td>3</td>\n",
              "      <td>NaN</td>\n",
              "      <td>low</td>\n",
              "      <td>0.144812</td>\n",
              "      <td>Employed</td>\n",
              "      <td>6.00</td>\n",
              "    </tr>\n",
              "    <tr>\n",
              "      <th>3</th>\n",
              "      <td>108071</td>\n",
              "      <td>36</td>\n",
              "      <td>Male</td>\n",
              "      <td>Married</td>\n",
              "      <td>151.00</td>\n",
              "      <td>D00-PR</td>\n",
              "      <td>None</td>\n",
              "      <td>0.608282</td>\n",
              "      <td>5</td>\n",
              "      <td>NaN</td>\n",
              "      <td>medium</td>\n",
              "      <td>0.210300</td>\n",
              "      <td>Employed</td>\n",
              "      <td>6.00</td>\n",
              "    </tr>\n",
              "    <tr>\n",
              "      <th>4</th>\n",
              "      <td>116915</td>\n",
              "      <td>38</td>\n",
              "      <td>Male</td>\n",
              "      <td>Married</td>\n",
              "      <td>259.00</td>\n",
              "      <td>-IT</td>\n",
              "      <td>None</td>\n",
              "      <td>0.749206</td>\n",
              "      <td>4</td>\n",
              "      <td>NaN</td>\n",
              "      <td>medium</td>\n",
              "      <td>0.888514</td>\n",
              "      <td>Employed</td>\n",
              "      <td>3.00</td>\n",
              "    </tr>\n",
              "  </tbody>\n",
              "</table>\n",
              "</div>"
            ],
            "text/plain": [
              "   employee_id  age  gender  ... satisfaction    status tenure\n",
              "0       113558   43    Male  ...     0.921208  Employed   4.00\n",
              "1       112256   24  Female  ...     0.568479  Employed   3.00\n",
              "2       112586   22  Female  ...     0.144812  Employed   6.00\n",
              "3       108071   36    Male  ...     0.210300  Employed   6.00\n",
              "4       116915   38    Male  ...     0.888514  Employed   3.00\n",
              "\n",
              "[5 rows x 14 columns]"
            ]
          },
          "metadata": {},
          "execution_count": 26
        }
      ]
    },
    {
      "cell_type": "markdown",
      "metadata": {
        "id": "b7g1nkBu-XcZ"
      },
      "source": [
        "# 5. Challenges in Data & possible solutions"
      ]
    },
    {
      "cell_type": "code",
      "metadata": {
        "id": "BFGTMbWELYsI"
      },
      "source": [
        "df_merged_emp['avg_monthly_hrs'] = df_merged_emp.avg_monthly_hrs.astype(float)"
      ],
      "execution_count": 27,
      "outputs": []
    },
    {
      "cell_type": "code",
      "metadata": {
        "colab": {
          "base_uri": "https://localhost:8080/"
        },
        "id": "qLPz8DfHINE0",
        "outputId": "46b05712-76e6-4f85-d8cd-ea86456828c0"
      },
      "source": [
        "df_merged_emp.info()"
      ],
      "execution_count": 29,
      "outputs": [
        {
          "output_type": "stream",
          "name": "stdout",
          "text": [
            "<class 'pandas.core.frame.DataFrame'>\n",
            "Int64Index: 14116 entries, 0 to 14115\n",
            "Data columns (total 14 columns):\n",
            " #   Column             Non-Null Count  Dtype  \n",
            "---  ------             --------------  -----  \n",
            " 0   employee_id        14116 non-null  int64  \n",
            " 1   age                14116 non-null  int64  \n",
            " 2   gender             14116 non-null  object \n",
            " 3   marital_status     14116 non-null  object \n",
            " 4   avg_monthly_hrs    14116 non-null  float64\n",
            " 5   department         13410 non-null  object \n",
            " 6   filed_complaint    2041 non-null   object \n",
            " 7   last_evaluation    12629 non-null  float64\n",
            " 8   n_projects         14116 non-null  int64  \n",
            " 9   recently_promoted  297 non-null    float64\n",
            " 10  salary             14116 non-null  object \n",
            " 11  satisfaction       13966 non-null  float64\n",
            " 12  status             14116 non-null  object \n",
            " 13  tenure             13966 non-null  object \n",
            "dtypes: float64(4), int64(3), object(7)\n",
            "memory usage: 1.6+ MB\n"
          ]
        }
      ]
    },
    {
      "cell_type": "code",
      "metadata": {
        "colab": {
          "base_uri": "https://localhost:8080/",
          "height": 297
        },
        "id": "y0b3ZRTOIfZL",
        "outputId": "b2721170-9aac-4ef3-f9f1-24650bdd317f"
      },
      "source": [
        "df_merged_emp.describe()"
      ],
      "execution_count": 30,
      "outputs": [
        {
          "output_type": "execute_result",
          "data": {
            "text/html": [
              "<div>\n",
              "<style scoped>\n",
              "    .dataframe tbody tr th:only-of-type {\n",
              "        vertical-align: middle;\n",
              "    }\n",
              "\n",
              "    .dataframe tbody tr th {\n",
              "        vertical-align: top;\n",
              "    }\n",
              "\n",
              "    .dataframe thead th {\n",
              "        text-align: right;\n",
              "    }\n",
              "</style>\n",
              "<table border=\"1\" class=\"dataframe\">\n",
              "  <thead>\n",
              "    <tr style=\"text-align: right;\">\n",
              "      <th></th>\n",
              "      <th>employee_id</th>\n",
              "      <th>age</th>\n",
              "      <th>avg_monthly_hrs</th>\n",
              "      <th>last_evaluation</th>\n",
              "      <th>n_projects</th>\n",
              "      <th>recently_promoted</th>\n",
              "      <th>satisfaction</th>\n",
              "    </tr>\n",
              "  </thead>\n",
              "  <tbody>\n",
              "    <tr>\n",
              "      <th>count</th>\n",
              "      <td>14116.000000</td>\n",
              "      <td>14116.000000</td>\n",
              "      <td>14116.000000</td>\n",
              "      <td>12629.000000</td>\n",
              "      <td>14116.000000</td>\n",
              "      <td>297.0</td>\n",
              "      <td>13966.000000</td>\n",
              "    </tr>\n",
              "    <tr>\n",
              "      <th>mean</th>\n",
              "      <td>112120.657764</td>\n",
              "      <td>32.896005</td>\n",
              "      <td>199.992632</td>\n",
              "      <td>0.718322</td>\n",
              "      <td>3.777770</td>\n",
              "      <td>1.0</td>\n",
              "      <td>0.621322</td>\n",
              "    </tr>\n",
              "    <tr>\n",
              "      <th>std</th>\n",
              "      <td>8497.639403</td>\n",
              "      <td>9.975000</td>\n",
              "      <td>50.826952</td>\n",
              "      <td>0.173069</td>\n",
              "      <td>1.249693</td>\n",
              "      <td>0.0</td>\n",
              "      <td>0.250460</td>\n",
              "    </tr>\n",
              "    <tr>\n",
              "      <th>min</th>\n",
              "      <td>100101.000000</td>\n",
              "      <td>22.000000</td>\n",
              "      <td>49.000000</td>\n",
              "      <td>0.316175</td>\n",
              "      <td>1.000000</td>\n",
              "      <td>1.0</td>\n",
              "      <td>0.040058</td>\n",
              "    </tr>\n",
              "    <tr>\n",
              "      <th>25%</th>\n",
              "      <td>105773.500000</td>\n",
              "      <td>24.000000</td>\n",
              "      <td>155.000000</td>\n",
              "      <td>0.563680</td>\n",
              "      <td>3.000000</td>\n",
              "      <td>1.0</td>\n",
              "      <td>0.450368</td>\n",
              "    </tr>\n",
              "    <tr>\n",
              "      <th>50%</th>\n",
              "      <td>111293.500000</td>\n",
              "      <td>29.000000</td>\n",
              "      <td>199.000000</td>\n",
              "      <td>0.724428</td>\n",
              "      <td>4.000000</td>\n",
              "      <td>1.0</td>\n",
              "      <td>0.652548</td>\n",
              "    </tr>\n",
              "    <tr>\n",
              "      <th>75%</th>\n",
              "      <td>116655.250000</td>\n",
              "      <td>41.000000</td>\n",
              "      <td>245.000000</td>\n",
              "      <td>0.871345</td>\n",
              "      <td>5.000000</td>\n",
              "      <td>1.0</td>\n",
              "      <td>0.824914</td>\n",
              "    </tr>\n",
              "    <tr>\n",
              "      <th>max</th>\n",
              "      <td>148988.000000</td>\n",
              "      <td>57.000000</td>\n",
              "      <td>310.000000</td>\n",
              "      <td>1.000000</td>\n",
              "      <td>7.000000</td>\n",
              "      <td>1.0</td>\n",
              "      <td>1.000000</td>\n",
              "    </tr>\n",
              "  </tbody>\n",
              "</table>\n",
              "</div>"
            ],
            "text/plain": [
              "         employee_id           age  ...  recently_promoted  satisfaction\n",
              "count   14116.000000  14116.000000  ...              297.0  13966.000000\n",
              "mean   112120.657764     32.896005  ...                1.0      0.621322\n",
              "std      8497.639403      9.975000  ...                0.0      0.250460\n",
              "min    100101.000000     22.000000  ...                1.0      0.040058\n",
              "25%    105773.500000     24.000000  ...                1.0      0.450368\n",
              "50%    111293.500000     29.000000  ...                1.0      0.652548\n",
              "75%    116655.250000     41.000000  ...                1.0      0.824914\n",
              "max    148988.000000     57.000000  ...                1.0      1.000000\n",
              "\n",
              "[8 rows x 7 columns]"
            ]
          },
          "metadata": {},
          "execution_count": 30
        }
      ]
    },
    {
      "cell_type": "code",
      "metadata": {
        "colab": {
          "base_uri": "https://localhost:8080/"
        },
        "id": "X9B0OY7xKW1m",
        "outputId": "9a4259ea-bdd2-4ec4-c272-32a25f877f67"
      },
      "source": [
        "df_merged_emp.gender.value_counts()"
      ],
      "execution_count": 31,
      "outputs": [
        {
          "output_type": "execute_result",
          "data": {
            "text/plain": [
              "Male      9287\n",
              "Female    4829\n",
              "Name: gender, dtype: int64"
            ]
          },
          "metadata": {},
          "execution_count": 31
        }
      ]
    },
    {
      "cell_type": "code",
      "metadata": {
        "colab": {
          "base_uri": "https://localhost:8080/"
        },
        "id": "ZDxMfZPqKciJ",
        "outputId": "1808390e-390b-4087-928a-986460624395"
      },
      "source": [
        "df_merged_emp.marital_status.value_counts()"
      ],
      "execution_count": 32,
      "outputs": [
        {
          "output_type": "execute_result",
          "data": {
            "text/plain": [
              "Unmarried    7211\n",
              "Married      6905\n",
              "Name: marital_status, dtype: int64"
            ]
          },
          "metadata": {},
          "execution_count": 32
        }
      ]
    },
    {
      "cell_type": "code",
      "metadata": {
        "colab": {
          "base_uri": "https://localhost:8080/"
        },
        "id": "qH2rBma5MPNE",
        "outputId": "43b2edad-2201-4922-d202-4d9dbe9aa6c7"
      },
      "source": [
        "df_merged_emp.department.value_counts()"
      ],
      "execution_count": 33,
      "outputs": [
        {
          "output_type": "execute_result",
          "data": {
            "text/plain": [
              "D00-SS     3895\n",
              "D00-ENG    2573\n",
              "D00-SP     2108\n",
              "D00-IT     1152\n",
              "D00-PD      853\n",
              "D00-MT      812\n",
              "D00-FN      722\n",
              "D00-MN      590\n",
              "-IT         207\n",
              "D00-AD      175\n",
              "D00-PR      173\n",
              "D00-TP      150\n",
              "Name: department, dtype: int64"
            ]
          },
          "metadata": {},
          "execution_count": 33
        }
      ]
    },
    {
      "cell_type": "code",
      "metadata": {
        "colab": {
          "base_uri": "https://localhost:8080/"
        },
        "id": "gyeeZQZbNhho",
        "outputId": "200beb82-fa5e-44b8-a73a-7c6c890e1681"
      },
      "source": [
        "df_dept_data.dept_id.unique()"
      ],
      "execution_count": 34,
      "outputs": [
        {
          "output_type": "execute_result",
          "data": {
            "text/plain": [
              "array(['D00-IT', 'D00-SS', 'D00-TP', 'D00-ENG', 'D00-SP', 'D00-FN',\n",
              "       'D00-PR', 'D00-AD', 'D00-MN', 'D00-MT', 'D00-PD'], dtype=object)"
            ]
          },
          "metadata": {},
          "execution_count": 34
        }
      ]
    },
    {
      "cell_type": "code",
      "metadata": {
        "id": "R3xQRh2yPH2_"
      },
      "source": [
        "df_merged_emp['department'].replace({'-IT' : 'D00-IT'}, inplace=True)"
      ],
      "execution_count": 35,
      "outputs": []
    },
    {
      "cell_type": "code",
      "metadata": {
        "id": "HTsR9SHcpH4B"
      },
      "source": [
        "df_merged_emp['department'].fillna('D00-SS', inplace=True)"
      ],
      "execution_count": 36,
      "outputs": []
    },
    {
      "cell_type": "code",
      "metadata": {
        "id": "dA3FlTIdPlf7",
        "colab": {
          "base_uri": "https://localhost:8080/"
        },
        "outputId": "f0e85e95-b153-451d-80c1-23f66a9b4b22"
      },
      "source": [
        "df_merged_emp.department.value_counts()"
      ],
      "execution_count": 37,
      "outputs": [
        {
          "output_type": "execute_result",
          "data": {
            "text/plain": [
              "D00-SS     4601\n",
              "D00-ENG    2573\n",
              "D00-SP     2108\n",
              "D00-IT     1359\n",
              "D00-PD      853\n",
              "D00-MT      812\n",
              "D00-FN      722\n",
              "D00-MN      590\n",
              "D00-AD      175\n",
              "D00-PR      173\n",
              "D00-TP      150\n",
              "Name: department, dtype: int64"
            ]
          },
          "metadata": {},
          "execution_count": 37
        }
      ]
    },
    {
      "cell_type": "code",
      "metadata": {
        "colab": {
          "base_uri": "https://localhost:8080/"
        },
        "id": "8NtNG-oNOQKj",
        "outputId": "f2560619-acb5-48dc-a176-7a500c25a5aa"
      },
      "source": [
        "df_merged_emp.filed_complaint.value_counts()"
      ],
      "execution_count": 38,
      "outputs": [
        {
          "output_type": "execute_result",
          "data": {
            "text/plain": [
              "1.00    2041\n",
              "Name: filed_complaint, dtype: int64"
            ]
          },
          "metadata": {},
          "execution_count": 38
        }
      ]
    },
    {
      "cell_type": "code",
      "metadata": {
        "id": "fZIkMhtoqMvp"
      },
      "source": [
        "# Assuming the missing values to be with Zero comlaints filed so filling it with 0\n",
        "df_merged_emp['filed_complaint'].fillna(0, inplace=True)"
      ],
      "execution_count": 39,
      "outputs": []
    },
    {
      "cell_type": "code",
      "metadata": {
        "id": "Krb803iIutSy"
      },
      "source": [
        "df_merged_emp['last_evaluation'].fillna(df_merged_emp['last_evaluation'].median(),inplace=True)"
      ],
      "execution_count": 40,
      "outputs": []
    },
    {
      "cell_type": "code",
      "metadata": {
        "colab": {
          "base_uri": "https://localhost:8080/"
        },
        "id": "Lipk91sIOY8s",
        "outputId": "89d41bd9-7cd1-4554-eda5-11edeacc68b8"
      },
      "source": [
        "df_merged_emp.n_projects.value_counts()"
      ],
      "execution_count": 41,
      "outputs": [
        {
          "output_type": "execute_result",
          "data": {
            "text/plain": [
              "4    4044\n",
              "3    3788\n",
              "5    2566\n",
              "2    2322\n",
              "6    1093\n",
              "7     242\n",
              "1      61\n",
              "Name: n_projects, dtype: int64"
            ]
          },
          "metadata": {},
          "execution_count": 41
        }
      ]
    },
    {
      "cell_type": "code",
      "metadata": {
        "colab": {
          "base_uri": "https://localhost:8080/"
        },
        "id": "B48prbATVDnH",
        "outputId": "7ad351ac-134f-4ea9-a03a-8a2a780a0830"
      },
      "source": [
        "df_merged_emp.recently_promoted.value_counts()"
      ],
      "execution_count": 42,
      "outputs": [
        {
          "output_type": "execute_result",
          "data": {
            "text/plain": [
              "1.0    297\n",
              "Name: recently_promoted, dtype: int64"
            ]
          },
          "metadata": {},
          "execution_count": 42
        }
      ]
    },
    {
      "cell_type": "code",
      "metadata": {
        "id": "ozZ2xg4owlO5"
      },
      "source": [
        "# Assuming the missing values to be with Zero for recently_promoted so filling it with 0\n",
        "df_merged_emp['recently_promoted'].fillna(0, inplace=True)"
      ],
      "execution_count": 43,
      "outputs": []
    },
    {
      "cell_type": "code",
      "metadata": {
        "colab": {
          "base_uri": "https://localhost:8080/"
        },
        "id": "IAgR572CV3zW",
        "outputId": "825aa608-0fee-4d35-8b2a-f9afb259f0c7"
      },
      "source": [
        "df_merged_emp.salary.value_counts()"
      ],
      "execution_count": 44,
      "outputs": [
        {
          "output_type": "execute_result",
          "data": {
            "text/plain": [
              "low       6889\n",
              "medium    6086\n",
              "high      1141\n",
              "Name: salary, dtype: int64"
            ]
          },
          "metadata": {},
          "execution_count": 44
        }
      ]
    },
    {
      "cell_type": "code",
      "metadata": {
        "colab": {
          "base_uri": "https://localhost:8080/"
        },
        "id": "HfQqvTbkWrh8",
        "outputId": "77fb6050-1ecd-43c4-d6c6-466e96745785"
      },
      "source": [
        "len(df_merged_emp[df_merged_emp['salary'] == 'high'])/ len(df_merged_emp)"
      ],
      "execution_count": 45,
      "outputs": [
        {
          "output_type": "execute_result",
          "data": {
            "text/plain": [
              "0.08083026353074525"
            ]
          },
          "metadata": {},
          "execution_count": 45
        }
      ]
    },
    {
      "cell_type": "code",
      "metadata": {
        "colab": {
          "base_uri": "https://localhost:8080/"
        },
        "id": "uNAbzQB7YAN9",
        "outputId": "39dd0fe7-e9ac-4709-848b-83ef0a9d99d5"
      },
      "source": [
        "len(df_merged_emp[df_merged_emp['satisfaction']< 0.4])/len(df_merged_emp)"
      ],
      "execution_count": 46,
      "outputs": [
        {
          "output_type": "execute_result",
          "data": {
            "text/plain": [
              "0.19233493907622556"
            ]
          },
          "metadata": {},
          "execution_count": 46
        }
      ]
    },
    {
      "cell_type": "code",
      "metadata": {
        "id": "HbIyHqb0xaxg"
      },
      "source": [
        "df_merged_emp['satisfaction'].fillna(df_merged_emp['satisfaction'].median(), inplace=True)"
      ],
      "execution_count": 47,
      "outputs": []
    },
    {
      "cell_type": "code",
      "metadata": {
        "colab": {
          "base_uri": "https://localhost:8080/"
        },
        "id": "h4ZT3gmgf4_6",
        "outputId": "3074dc79-af7a-4eeb-ad1e-a85efd033ecc"
      },
      "source": [
        "df_merged_emp.tenure.value_counts()"
      ],
      "execution_count": 48,
      "outputs": [
        {
          "output_type": "execute_result",
          "data": {
            "text/plain": [
              "3.00     6006\n",
              "2.00     3019\n",
              "4.00     2386\n",
              "5.00     1363\n",
              "6.00      659\n",
              "10.00     198\n",
              "7.00      180\n",
              "8.00      155\n",
              "Name: tenure, dtype: int64"
            ]
          },
          "metadata": {},
          "execution_count": 48
        }
      ]
    },
    {
      "cell_type": "code",
      "metadata": {
        "id": "oeAGxw6wyICd"
      },
      "source": [
        "df_merged_emp['tenure'].fillna(3, inplace=True)"
      ],
      "execution_count": 49,
      "outputs": []
    },
    {
      "cell_type": "code",
      "metadata": {
        "colab": {
          "base_uri": "https://localhost:8080/"
        },
        "id": "xxopL6hZfHhP",
        "outputId": "5013196a-2db7-4cbd-9b7f-9d565eb29a42"
      },
      "source": [
        "df_merged_emp.status.value_counts()"
      ],
      "execution_count": 50,
      "outputs": [
        {
          "output_type": "execute_result",
          "data": {
            "text/plain": [
              "Employed    10761\n",
              "Left         3355\n",
              "Name: status, dtype: int64"
            ]
          },
          "metadata": {},
          "execution_count": 50
        }
      ]
    },
    {
      "cell_type": "markdown",
      "metadata": {
        "id": "wMRsbSaSJc3Y"
      },
      "source": [
        "employee_id:\n",
        "1.   No Null values\n",
        "2.   No 0 values\n",
        "3.   Valid Data type\n",
        "\n",
        "age:\n",
        "1.   No Null values\n",
        "2.   No 0 Values\n",
        "3.   Valid Data type\n",
        "\n",
        "gender:\n",
        "1.   No Null values\n",
        "2.   Valid entries\n",
        "3.   Valid Data type\n",
        "\n",
        "marital_status:\n",
        "1.   No Null values\n",
        "2.   Valid entries\n",
        "3.   Valid Data type\n",
        "\n",
        "avg_monthly_hrs:\n",
        "1.   data type is object, it should be converted to float type.\n",
        "2.   No Null values\n",
        "\n",
        "department:\n",
        "1.   706 Null entries\n",
        "2.   Valid data type\n",
        "3.   \"-IT\" to be replaced with \"D00-IT\" for 207 rows\n",
        "4.  Missing values are nearly 5% so we cant drop those many rows. Either fill with Mode or KNN imputer\n",
        "\n",
        "filed_complaint:\n",
        "1.   2041 non-null values\n",
        "2.   type = object\n",
        "3.   Assuming that for employees who ever filed complaints were assigned value of  1 \n",
        "4.   Possibly there are no complaints filed by other employees so can be filled with 0\n",
        "\n",
        "last_evaluation: Score for most recent evaluation of employee (higher is better)\n",
        "1.    12629  non-null  \n",
        "2.    type = float64\n",
        "3.    Missing values could be 0 or there is no evaluation done yet\n",
        "4.    We filled it with median value\n",
        "\n",
        "n_projects :\n",
        "1.    14116 non-null entries\n",
        "2.     type is  int64\n",
        "3.    No null values\n",
        "4.    Values ranges from 1 to 7, where there are more people with 3 or 4 projects\n",
        "\n",
        "recently_promoted :\n",
        "1.   297 non-null  entries\n",
        "2.   type =  float64\n",
        "3.   Assuming that employees who ever was recently promoted were assigned value = 1.00\n",
        "4.   Missing values could be 0 as not recently promoted\n",
        "\n",
        "salary :\n",
        "1.  14116 non-null entries\n",
        "2.  type =  object as this is a category variable\n",
        "3.  No null values\n",
        "4.  Nearly 8% of employees are with high salary from the merged dataframe.\n",
        "\n",
        "satisfaction : Score for employee’s satisfaction with the company (higher is better)\n",
        "1.   13966 non-null \n",
        "2.  type =  float64\n",
        "3.  150 null values in this column\n",
        "4.  Missing values could be \"not satisfied\"   or   \"no information\". Those missing values can be filled with \"median\" score as its around 1% .\n",
        "5. On a 5 point scale, taking 40% as threshold there are 19.23% of employees not satisfied.\n",
        "6.    We filled it with median value\n",
        "\n",
        "tenure :  Number of years at the company\n",
        "1.  13966 non-null entries\n",
        "2. type = object\n",
        "3.  150 null values in this column\n",
        "4.  Missing values could be \"not satisfied\"   or   \"no information\". Those missing values can be filled with \"median/mean\" score as its around 1% .\n",
        "5. Its an ordinal variable so can be converted to int or float\n",
        "\n",
        "status :  Target variable\n",
        "1. 2 categories  Employed , Left \n",
        "2. No null values\n",
        "\n",
        "\n",
        "\n"
      ]
    },
    {
      "cell_type": "markdown",
      "metadata": {
        "id": "wFlgZ0up-q-B"
      },
      "source": [
        "# EDA and Inferences"
      ]
    },
    {
      "cell_type": "code",
      "metadata": {
        "id": "W0KzV5x1pn8N"
      },
      "source": [
        "df_left = df_merged_emp[df_merged_emp['status']=='Left']"
      ],
      "execution_count": 51,
      "outputs": []
    },
    {
      "cell_type": "code",
      "metadata": {
        "id": "WFeQSM0xrVu-"
      },
      "source": [
        "df_employed = df_merged_emp[df_merged_emp['status']=='Employed']"
      ],
      "execution_count": 52,
      "outputs": []
    },
    {
      "cell_type": "code",
      "metadata": {
        "colab": {
          "base_uri": "https://localhost:8080/",
          "height": 282
        },
        "id": "-FZhdbSbz_RW",
        "outputId": "72646dfb-d03d-42fe-cfed-baaf846cb7fa"
      },
      "source": [
        "# Age distribution of all employees\n",
        "df_merged_emp.age.value_counts().sort_index(ascending=True).plot(kind='line')"
      ],
      "execution_count": 53,
      "outputs": [
        {
          "output_type": "execute_result",
          "data": {
            "text/plain": [
              "<matplotlib.axes._subplots.AxesSubplot at 0x7fd231a24b90>"
            ]
          },
          "metadata": {},
          "execution_count": 53
        },
        {
          "output_type": "display_data",
          "data": {
            "image/png": "[encoded data removed]",
            "text/plain": [
              "<Figure size 432x288 with 1 Axes>"
            ]
          },
          "metadata": {
            "needs_background": "light"
          }
        }
      ]
    },
    {
      "cell_type": "code",
      "metadata": {
        "colab": {
          "base_uri": "https://localhost:8080/",
          "height": 296
        },
        "id": "QZIYW4Opk_qH",
        "outputId": "549af96e-b238-4fab-a9c8-b92c8c92558b"
      },
      "source": [
        "sns.boxplot(x='age', data= df_merged_emp)"
      ],
      "execution_count": 54,
      "outputs": [
        {
          "output_type": "execute_result",
          "data": {
            "text/plain": [
              "<matplotlib.axes._subplots.AxesSubplot at 0x7fd231900fd0>"
            ]
          },
          "metadata": {},
          "execution_count": 54
        },
        {
          "output_type": "display_data",
          "data": {
            "image/png": "[encoded data removed]",
            "text/plain": [
              "<Figure size 432x288 with 1 Axes>"
            ]
          },
          "metadata": {
            "needs_background": "light"
          }
        }
      ]
    },
    {
      "cell_type": "code",
      "metadata": {
        "colab": {
          "base_uri": "https://localhost:8080/",
          "height": 286
        },
        "id": "KaDrfTjGnCom",
        "outputId": "156a0f75-2980-4fb3-a857-50ae2c3cbaad"
      },
      "source": [
        "# Plotting the distribution of employees who \"Left\" on the axis of age.\n",
        "df_merged_emp[df_merged_emp['status']=='Left'].age.value_counts().sort_index(ascending=True).plot(kind='line')"
      ],
      "execution_count": 55,
      "outputs": [
        {
          "output_type": "execute_result",
          "data": {
            "text/plain": [
              "<matplotlib.axes._subplots.AxesSubplot at 0x7fd231471bd0>"
            ]
          },
          "metadata": {},
          "execution_count": 55
        },
        {
          "output_type": "display_data",
          "data": {
            "image/png": "[encoded data removed]",
            "text/plain": [
              "<Figure size 432x288 with 1 Axes>"
            ]
          },
          "metadata": {
            "needs_background": "light"
          }
        }
      ]
    },
    {
      "cell_type": "code",
      "metadata": {
        "colab": {
          "base_uri": "https://localhost:8080/",
          "height": 296
        },
        "id": "0QC7c-lap0vX",
        "outputId": "5e7f6756-8664-46dc-a980-1b5adc2bdefa"
      },
      "source": [
        "sns.boxplot(x='age', data = df_left)"
      ],
      "execution_count": 56,
      "outputs": [
        {
          "output_type": "execute_result",
          "data": {
            "text/plain": [
              "<matplotlib.axes._subplots.AxesSubplot at 0x7fd2313b1990>"
            ]
          },
          "metadata": {},
          "execution_count": 56
        },
        {
          "output_type": "display_data",
          "data": {
            "image/png": "[encoded data removed]",
            "text/plain": [
              "<Figure size 432x288 with 1 Axes>"
            ]
          },
          "metadata": {
            "needs_background": "light"
          }
        }
      ]
    },
    {
      "cell_type": "code",
      "metadata": {
        "id": "sSiEcTVAqbln"
      },
      "source": [
        "# observed that 50% of employees left are less than age of 27"
      ],
      "execution_count": 57,
      "outputs": []
    },
    {
      "cell_type": "code",
      "metadata": {
        "colab": {
          "base_uri": "https://localhost:8080/",
          "height": 282
        },
        "id": "2CMElSxQo35C",
        "outputId": "66113b88-ae31-4341-d498-d4fae4e45989"
      },
      "source": [
        "# Plotting the distribution of employees who \"Employed\" on the axis of age.\n",
        "df_merged_emp[df_merged_emp['status']=='Employed'].age.value_counts().sort_index(ascending=True).plot(kind='line')"
      ],
      "execution_count": 58,
      "outputs": [
        {
          "output_type": "execute_result",
          "data": {
            "text/plain": [
              "<matplotlib.axes._subplots.AxesSubplot at 0x7fd23138d8d0>"
            ]
          },
          "metadata": {},
          "execution_count": 58
        },
        {
          "output_type": "display_data",
          "data": {
            "image/png": "[encoded data removed]",
            "text/plain": [
              "<Figure size 432x288 with 1 Axes>"
            ]
          },
          "metadata": {
            "needs_background": "light"
          }
        }
      ]
    },
    {
      "cell_type": "code",
      "metadata": {
        "colab": {
          "base_uri": "https://localhost:8080/",
          "height": 296
        },
        "id": "Ifnh0YD1ssqY",
        "outputId": "2e0d79c1-92f1-4505-f720-12bcfd7828a9"
      },
      "source": [
        "sns.boxplot(x='age', data = df_employed)"
      ],
      "execution_count": 59,
      "outputs": [
        {
          "output_type": "execute_result",
          "data": {
            "text/plain": [
              "<matplotlib.axes._subplots.AxesSubplot at 0x7fd23364df90>"
            ]
          },
          "metadata": {},
          "execution_count": 59
        },
        {
          "output_type": "display_data",
          "data": {
            "image/png": "[encoded data removed]",
            "text/plain": [
              "<Figure size 432x288 with 1 Axes>"
            ]
          },
          "metadata": {
            "needs_background": "light"
          }
        }
      ]
    },
    {
      "cell_type": "code",
      "metadata": {
        "colab": {
          "base_uri": "https://localhost:8080/",
          "height": 308
        },
        "id": "wbyuLrHB0ijL",
        "outputId": "9f1f616a-728b-4d6e-b2f2-9a4bf5738f73"
      },
      "source": [
        "# Gender wise distribution\n",
        "df_merged_emp.gender.value_counts().plot(kind='bar')"
      ],
      "execution_count": 60,
      "outputs": [
        {
          "output_type": "execute_result",
          "data": {
            "text/plain": [
              "<matplotlib.axes._subplots.AxesSubplot at 0x7fd231398bd0>"
            ]
          },
          "metadata": {},
          "execution_count": 60
        },
        {
          "output_type": "display_data",
          "data": {
            "image/png": "[encoded data removed]",
            "text/plain": [
              "<Figure size 432x288 with 1 Axes>"
            ]
          },
          "metadata": {
            "needs_background": "light"
          }
        }
      ]
    },
    {
      "cell_type": "code",
      "metadata": {
        "colab": {
          "base_uri": "https://localhost:8080/",
          "height": 386
        },
        "id": "ND9d0Zz3084d",
        "outputId": "cc5e513c-3dd3-4396-96ea-7b8c4b262333"
      },
      "source": [
        "df_merged_emp.groupby('gender')['status'].value_counts().plot(kind='bar')"
      ],
      "execution_count": 61,
      "outputs": [
        {
          "output_type": "execute_result",
          "data": {
            "text/plain": [
              "<matplotlib.axes._subplots.AxesSubplot at 0x7fd2312f1850>"
            ]
          },
          "metadata": {},
          "execution_count": 61
        },
        {
          "output_type": "display_data",
          "data": {
            "image/png": "[encoded data removed]",
            "text/plain": [
              "<Figure size 432x288 with 1 Axes>"
            ]
          },
          "metadata": {
            "needs_background": "light"
          }
        }
      ]
    },
    {
      "cell_type": "code",
      "metadata": {
        "colab": {
          "base_uri": "https://localhost:8080/",
          "height": 308
        },
        "id": "H08YB-i6tzY7",
        "outputId": "d4d74b47-ad53-4eae-8282-7f2f88dca6af"
      },
      "source": [
        "df_left['gender'].value_counts().plot(kind='bar')"
      ],
      "execution_count": 62,
      "outputs": [
        {
          "output_type": "execute_result",
          "data": {
            "text/plain": [
              "<matplotlib.axes._subplots.AxesSubplot at 0x7fd231165c50>"
            ]
          },
          "metadata": {},
          "execution_count": 62
        },
        {
          "output_type": "display_data",
          "data": {
            "image/png": "[encoded data removed]",
            "text/plain": [
              "<Figure size 432x288 with 1 Axes>"
            ]
          },
          "metadata": {
            "needs_background": "light"
          }
        }
      ]
    },
    {
      "cell_type": "code",
      "metadata": {
        "colab": {
          "base_uri": "https://localhost:8080/"
        },
        "id": "pZtVLwd-uHTl",
        "outputId": "79b5b413-5533-4e10-b14b-c256e934a598"
      },
      "source": [
        "print(\"Number of Female employee left : \", len(df_left[df_left['gender']=='Female']))\n",
        "print(\"Total number of female emloyees : \", len(df_merged_emp[df_merged_emp['gender']=='Female']))\n",
        "print(\"% of Female employee left: \", len(df_left[df_left['gender']=='Female']) / len(df_merged_emp[df_merged_emp['gender']=='Female']))\n",
        "print(\"Number of Male employee left : \", len(df_left[df_left['gender']=='Male']))\n",
        "print(\"Total number of male emloyees : \", len(df_merged_emp[df_merged_emp['gender']=='Male']))\n",
        "print(\"% of Male employee left: \", len(df_left[df_left['gender']=='Male']) / len(df_merged_emp[df_merged_emp['gender']=='Male']))"
      ],
      "execution_count": 63,
      "outputs": [
        {
          "output_type": "stream",
          "name": "stdout",
          "text": [
            "Number of Female employee left :  1495\n",
            "Total number of female emloyees :  4829\n",
            "% of Female employee left:  0.3095879063988403\n",
            "Number of Male employee left :  1860\n",
            "Total number of male emloyees :  9287\n",
            "% of Male employee left:  0.20027996123613653\n"
          ]
        }
      ]
    },
    {
      "cell_type": "code",
      "metadata": {
        "colab": {
          "base_uri": "https://localhost:8080/",
          "height": 325
        },
        "id": "oJTwnZNd0ZDt",
        "outputId": "83c2499b-b318-466b-c403-6b1cb4734362"
      },
      "source": [
        "df_merged_emp.marital_status.value_counts().plot(kind='bar')"
      ],
      "execution_count": 64,
      "outputs": [
        {
          "output_type": "execute_result",
          "data": {
            "text/plain": [
              "<matplotlib.axes._subplots.AxesSubplot at 0x7fd23114c690>"
            ]
          },
          "metadata": {},
          "execution_count": 64
        },
        {
          "output_type": "display_data",
          "data": {
            "image/png": "[encoded data removed]",
            "text/plain": [
              "<Figure size 432x288 with 1 Axes>"
            ]
          },
          "metadata": {
            "needs_background": "light"
          }
        }
      ]
    },
    {
      "cell_type": "code",
      "metadata": {
        "id": "azZlTcPm1rIF",
        "colab": {
          "base_uri": "https://localhost:8080/",
          "height": 404
        },
        "outputId": "c1b8d0e1-fe6b-4d4e-a3af-fe403358ee4e"
      },
      "source": [
        "df_merged_emp.groupby('marital_status')['status'].value_counts().plot(kind='bar')"
      ],
      "execution_count": 65,
      "outputs": [
        {
          "output_type": "execute_result",
          "data": {
            "text/plain": [
              "<matplotlib.axes._subplots.AxesSubplot at 0x7fd2310ceb10>"
            ]
          },
          "metadata": {},
          "execution_count": 65
        },
        {
          "output_type": "display_data",
          "data": {
            "image/png": "[encoded data removed]",
            "text/plain": [
              "<Figure size 432x288 with 1 Axes>"
            ]
          },
          "metadata": {
            "needs_background": "light"
          }
        }
      ]
    },
    {
      "cell_type": "code",
      "metadata": {
        "colab": {
          "base_uri": "https://localhost:8080/"
        },
        "id": "lGP8YoVAMbNF",
        "outputId": "3666a6df-9d49-46e4-92f9-a4ed5f2c6340"
      },
      "source": [
        "print(\"Number of Married employee left : \", len(df_left[df_left['marital_status']=='Married']))\n",
        "print(\"Total number of Married emloyees : \", len(df_merged_emp[df_merged_emp['marital_status']=='Married']))\n",
        "print(\"% of Married employee left: \", len(df_left[df_left['marital_status']=='Married']) / len(df_merged_emp[df_merged_emp['marital_status']=='Married']))\n",
        "print(\"Number of Unmarried employee left : \", len(df_left[df_left['marital_status']=='Unmarried']))\n",
        "print(\"Total number of Unmarried emloyees : \", len(df_merged_emp[df_merged_emp['marital_status']=='Unmarried']))\n",
        "print(\"% of Unmarried employee left: \", len(df_left[df_left['marital_status']=='Unmarried']) / len(df_merged_emp[df_merged_emp['marital_status']=='Unmarried']))"
      ],
      "execution_count": 66,
      "outputs": [
        {
          "output_type": "stream",
          "name": "stdout",
          "text": [
            "Number of Married employee left :  1408\n",
            "Total number of Married emloyees :  6905\n",
            "% of Married employee left:  0.20391020999275888\n",
            "Number of Unmarried employee left :  1947\n",
            "Total number of Unmarried emloyees :  7211\n",
            "% of Unmarried employee left:  0.2700041603106365\n"
          ]
        }
      ]
    },
    {
      "cell_type": "code",
      "metadata": {
        "colab": {
          "base_uri": "https://localhost:8080/",
          "height": 297
        },
        "id": "-C7_KYgdzjyl",
        "outputId": "d2b80768-9c8b-4fac-a8bf-2db81e2b5f28"
      },
      "source": [
        "sns.boxplot(x='avg_monthly_hrs', data= df_merged_emp)"
      ],
      "execution_count": 67,
      "outputs": [
        {
          "output_type": "execute_result",
          "data": {
            "text/plain": [
              "<matplotlib.axes._subplots.AxesSubplot at 0x7fd2310bf090>"
            ]
          },
          "metadata": {},
          "execution_count": 67
        },
        {
          "output_type": "display_data",
          "data": {
            "image/png": "[encoded data removed]",
            "text/plain": [
              "<Figure size 432x288 with 1 Axes>"
            ]
          },
          "metadata": {
            "needs_background": "light"
          }
        }
      ]
    },
    {
      "cell_type": "code",
      "metadata": {
        "colab": {
          "base_uri": "https://localhost:8080/",
          "height": 297
        },
        "id": "XlEhz0lsOoTy",
        "outputId": "cf1031d6-a24e-45ac-b78c-9b3ca53d3569"
      },
      "source": [
        "sns.boxplot(x='avg_monthly_hrs', data= df_left)"
      ],
      "execution_count": 68,
      "outputs": [
        {
          "output_type": "execute_result",
          "data": {
            "text/plain": [
              "<matplotlib.axes._subplots.AxesSubplot at 0x7fd230faba90>"
            ]
          },
          "metadata": {},
          "execution_count": 68
        },
        {
          "output_type": "display_data",
          "data": {
            "image/png": "[encoded data removed]",
            "text/plain": [
              "<Figure size 432x288 with 1 Axes>"
            ]
          },
          "metadata": {
            "needs_background": "light"
          }
        }
      ]
    },
    {
      "cell_type": "code",
      "metadata": {
        "colab": {
          "base_uri": "https://localhost:8080/",
          "height": 318
        },
        "id": "wWMXyFpiz1vs",
        "outputId": "586215d0-7378-44d9-f23b-1746f77eb1df"
      },
      "source": [
        "df_merged_emp.department.value_counts().plot(kind='bar')"
      ],
      "execution_count": 69,
      "outputs": [
        {
          "output_type": "execute_result",
          "data": {
            "text/plain": [
              "<matplotlib.axes._subplots.AxesSubplot at 0x7fd230f96d50>"
            ]
          },
          "metadata": {},
          "execution_count": 69
        },
        {
          "output_type": "display_data",
          "data": {
            "image/png": "[encoded data removed]",
            "text/plain": [
              "<Figure size 432x288 with 1 Axes>"
            ]
          },
          "metadata": {
            "needs_background": "light"
          }
        }
      ]
    },
    {
      "cell_type": "code",
      "metadata": {
        "colab": {
          "base_uri": "https://localhost:8080/",
          "height": 320
        },
        "id": "N9rKGWZePUsb",
        "outputId": "f22583a4-6c08-49df-b926-cf640b6ce3dc"
      },
      "source": [
        "df_left.department.value_counts().plot(kind='bar')"
      ],
      "execution_count": 70,
      "outputs": [
        {
          "output_type": "execute_result",
          "data": {
            "text/plain": [
              "<matplotlib.axes._subplots.AxesSubplot at 0x7fd230f04950>"
            ]
          },
          "metadata": {},
          "execution_count": 70
        },
        {
          "output_type": "display_data",
          "data": {
            "image/png": "[encoded data removed]",
            "text/plain": [
              "<Figure size 432x288 with 1 Axes>"
            ]
          },
          "metadata": {
            "needs_background": "light"
          }
        }
      ]
    },
    {
      "cell_type": "code",
      "metadata": {
        "id": "lLz6JyBRSROy"
      },
      "source": [
        "left_dept = pd.DataFrame(columns=['dept_id', 'percentage_left'])"
      ],
      "execution_count": 71,
      "outputs": []
    },
    {
      "cell_type": "code",
      "metadata": {
        "colab": {
          "base_uri": "https://localhost:8080/",
          "height": 333
        },
        "id": "ROKsWMncRFqs",
        "outputId": "aeac7549-d97f-4a2c-e17e-a632bedaea98"
      },
      "source": [
        "per_list = []\n",
        "for dept in df_dept_data['dept_id']:\n",
        "  val = len(df_left[df_left['department']== dept]) / len(df_merged_emp[df_merged_emp['department']== dept])\n",
        "  per_list.append(val)\n",
        "\n",
        "left_dept['dept_id'] = df_dept_data['dept_id']\n",
        "left_dept['percentage_left'] = per_list\n",
        "left_dept.set_index('dept_id', inplace=True)\n",
        "left_dept.percentage_left.plot(kind='bar')"
      ],
      "execution_count": 72,
      "outputs": [
        {
          "output_type": "execute_result",
          "data": {
            "text/plain": [
              "<matplotlib.axes._subplots.AxesSubplot at 0x7fd2311e51d0>"
            ]
          },
          "metadata": {},
          "execution_count": 72
        },
        {
          "output_type": "display_data",
          "data": {
            "image/png": "[encoded data removed]",
            "text/plain": [
              "<Figure size 432x288 with 1 Axes>"
            ]
          },
          "metadata": {
            "needs_background": "light"
          }
        }
      ]
    },
    {
      "cell_type": "code",
      "metadata": {
        "colab": {
          "base_uri": "https://localhost:8080/",
          "height": 173
        },
        "id": "3V6n9bjIS55P",
        "outputId": "0a54ca3a-2e4a-4604-f8c2-7483049438e3"
      },
      "source": [
        "# Departments that lost 25% and above employees\n",
        "left_dept[left_dept['percentage_left']>=0.25]"
      ],
      "execution_count": 73,
      "outputs": [
        {
          "output_type": "execute_result",
          "data": {
            "text/html": [
              "<div>\n",
              "<style scoped>\n",
              "    .dataframe tbody tr th:only-of-type {\n",
              "        vertical-align: middle;\n",
              "    }\n",
              "\n",
              "    .dataframe tbody tr th {\n",
              "        vertical-align: top;\n",
              "    }\n",
              "\n",
              "    .dataframe thead th {\n",
              "        text-align: right;\n",
              "    }\n",
              "</style>\n",
              "<table border=\"1\" class=\"dataframe\">\n",
              "  <thead>\n",
              "    <tr style=\"text-align: right;\">\n",
              "      <th></th>\n",
              "      <th>percentage_left</th>\n",
              "    </tr>\n",
              "    <tr>\n",
              "      <th>dept_id</th>\n",
              "      <th></th>\n",
              "    </tr>\n",
              "  </thead>\n",
              "  <tbody>\n",
              "    <tr>\n",
              "      <th>D00-SS</th>\n",
              "      <td>0.250815</td>\n",
              "    </tr>\n",
              "    <tr>\n",
              "      <th>D00-ENG</th>\n",
              "      <td>0.254178</td>\n",
              "    </tr>\n",
              "    <tr>\n",
              "      <th>D00-FN</th>\n",
              "      <td>0.267313</td>\n",
              "    </tr>\n",
              "  </tbody>\n",
              "</table>\n",
              "</div>"
            ],
            "text/plain": [
              "         percentage_left\n",
              "dept_id                 \n",
              "D00-SS          0.250815\n",
              "D00-ENG         0.254178\n",
              "D00-FN          0.267313"
            ]
          },
          "metadata": {},
          "execution_count": 73
        }
      ]
    },
    {
      "cell_type": "code",
      "metadata": {
        "colab": {
          "base_uri": "https://localhost:8080/"
        },
        "id": "JolFHVw5ZXQM",
        "outputId": "49076fdc-e986-4109-d3b1-865061392404"
      },
      "source": [
        "df_merged_emp.filed_complaint.value_counts()"
      ],
      "execution_count": 74,
      "outputs": [
        {
          "output_type": "execute_result",
          "data": {
            "text/plain": [
              "0       12075\n",
              "1.00     2041\n",
              "Name: filed_complaint, dtype: int64"
            ]
          },
          "metadata": {},
          "execution_count": 74
        }
      ]
    },
    {
      "cell_type": "code",
      "metadata": {
        "colab": {
          "base_uri": "https://localhost:8080/"
        },
        "id": "XsWpVyW8ZkhD",
        "outputId": "767c13b0-8b7f-4751-9e85-a7f9a7bf9ae3"
      },
      "source": [
        "df_left.filed_complaint.value_counts()"
      ],
      "execution_count": 75,
      "outputs": [
        {
          "output_type": "execute_result",
          "data": {
            "text/plain": [
              "0       3203\n",
              "1.00     152\n",
              "Name: filed_complaint, dtype: int64"
            ]
          },
          "metadata": {},
          "execution_count": 75
        }
      ]
    },
    {
      "cell_type": "code",
      "metadata": {
        "colab": {
          "base_uri": "https://localhost:8080/"
        },
        "id": "tD7MhOGBZp1N",
        "outputId": "b629a9c4-4b30-449b-abc7-cbd419ecfd12"
      },
      "source": [
        "df_employed.filed_complaint.value_counts()"
      ],
      "execution_count": 76,
      "outputs": [
        {
          "output_type": "execute_result",
          "data": {
            "text/plain": [
              "0       8872\n",
              "1.00    1889\n",
              "Name: filed_complaint, dtype: int64"
            ]
          },
          "metadata": {},
          "execution_count": 76
        }
      ]
    },
    {
      "cell_type": "code",
      "metadata": {
        "colab": {
          "base_uri": "https://localhost:8080/"
        },
        "id": "NCZqWxHfZ-dc",
        "outputId": "af13e21e-6542-4b32-c9c1-52fb7273aecb"
      },
      "source": [
        "print(\"Number of  employee left who filed complaint : \", len(df_left[df_left['filed_complaint']== 1 ]))\n",
        "print(\"Total number of  emloyees filed_complaint : \", len(df_merged_emp[df_merged_emp['filed_complaint']==1 ]))\n",
        "print(\"% of  employee left who filed complaints : \", len(df_left[df_left['filed_complaint']== 1]) / len(df_merged_emp[df_merged_emp['filed_complaint']== 1]))\n",
        "print(\"Number of employee left without filing complaints : \", len(df_left[df_left['filed_complaint']== 0 ]))\n",
        "print(\"Total number of  emloyees without filing complaints : \", len(df_merged_emp[df_merged_emp['filed_complaint']== 0]))\n",
        "print(\"% of employee left without filing complaints : \", len(df_left[df_left['filed_complaint']== 0 ]) / len(df_merged_emp[df_merged_emp['filed_complaint']==0 ]))"
      ],
      "execution_count": 77,
      "outputs": [
        {
          "output_type": "stream",
          "name": "stdout",
          "text": [
            "Number of  employee left who filed complaint :  152\n",
            "Total number of  emloyees filed_complaint :  2041\n",
            "% of  employee left who filed complaints :  0.0744732974032337\n",
            "Number of employee left without filing complaints :  3203\n",
            "Total number of  emloyees without filing complaints :  12075\n",
            "% of employee left without filing complaints :  0.26525879917184264\n"
          ]
        }
      ]
    },
    {
      "cell_type": "code",
      "metadata": {
        "colab": {
          "base_uri": "https://localhost:8080/",
          "height": 297
        },
        "id": "FFz-ypOTcX30",
        "outputId": "2c1aa621-9c5f-4051-9c96-d5e438df1156"
      },
      "source": [
        "sns.boxplot(x='last_evaluation', data = df_left)"
      ],
      "execution_count": 78,
      "outputs": [
        {
          "output_type": "execute_result",
          "data": {
            "text/plain": [
              "<matplotlib.axes._subplots.AxesSubplot at 0x7fd230da2250>"
            ]
          },
          "metadata": {},
          "execution_count": 78
        },
        {
          "output_type": "display_data",
          "data": {
            "image/png": "[encoded data removed]",
            "text/plain": [
              "<Figure size 432x288 with 1 Axes>"
            ]
          },
          "metadata": {
            "needs_background": "light"
          }
        }
      ]
    },
    {
      "cell_type": "code",
      "metadata": {
        "colab": {
          "base_uri": "https://localhost:8080/",
          "height": 297
        },
        "id": "iPlCrAU_cwG_",
        "outputId": "b64720c4-400e-4e55-dd67-8c4c6f3f33c5"
      },
      "source": [
        "sns.boxplot(x='last_evaluation', data = df_employed)"
      ],
      "execution_count": 79,
      "outputs": [
        {
          "output_type": "execute_result",
          "data": {
            "text/plain": [
              "<matplotlib.axes._subplots.AxesSubplot at 0x7fd230d93410>"
            ]
          },
          "metadata": {},
          "execution_count": 79
        },
        {
          "output_type": "display_data",
          "data": {
            "image/png": "[encoded data removed]",
            "text/plain": [
              "<Figure size 432x288 with 1 Axes>"
            ]
          },
          "metadata": {
            "needs_background": "light"
          }
        }
      ]
    },
    {
      "cell_type": "code",
      "metadata": {
        "colab": {
          "base_uri": "https://localhost:8080/"
        },
        "id": "qf_xAAeteMaX",
        "outputId": "28a2cc0c-02fe-4158-8a86-0ce4a5917d80"
      },
      "source": [
        "df_merged_emp.n_projects.value_counts()"
      ],
      "execution_count": 80,
      "outputs": [
        {
          "output_type": "execute_result",
          "data": {
            "text/plain": [
              "4    4044\n",
              "3    3788\n",
              "5    2566\n",
              "2    2322\n",
              "6    1093\n",
              "7     242\n",
              "1      61\n",
              "Name: n_projects, dtype: int64"
            ]
          },
          "metadata": {},
          "execution_count": 80
        }
      ]
    },
    {
      "cell_type": "code",
      "metadata": {
        "colab": {
          "base_uri": "https://localhost:8080/"
        },
        "id": "EtTrdKoYeYuj",
        "outputId": "1c405111-4a67-473e-f154-8843aa48ddc6"
      },
      "source": [
        "df_left.n_projects.value_counts()"
      ],
      "execution_count": 81,
      "outputs": [
        {
          "output_type": "execute_result",
          "data": {
            "text/plain": [
              "2    1484\n",
              "6     614\n",
              "5     560\n",
              "4     377\n",
              "7     242\n",
              "3      71\n",
              "1       7\n",
              "Name: n_projects, dtype: int64"
            ]
          },
          "metadata": {},
          "execution_count": 81
        }
      ]
    },
    {
      "cell_type": "code",
      "metadata": {
        "id": "DTHX3CdvfXaC"
      },
      "source": [
        "left_n_projects= pd.DataFrame(columns=['n_projects', 'percentage_left'])\n",
        "left_n_projects['n_projects']= [1,2,3,4,5,6,7]"
      ],
      "execution_count": 82,
      "outputs": []
    },
    {
      "cell_type": "code",
      "metadata": {
        "colab": {
          "base_uri": "https://localhost:8080/",
          "height": 294
        },
        "id": "Vi7yF6CbfWfS",
        "outputId": "7ad90590-c957-4413-f3e0-706c75a0355f"
      },
      "source": [
        "# To know the percentage of employees left based on number of projects worked\n",
        "per_list = []\n",
        "for n in left_n_projects['n_projects']:\n",
        "  val = len(df_left[df_left['n_projects']== n]) / len(df_merged_emp[df_merged_emp['n_projects']== n ])\n",
        "  per_list.append(val)\n",
        "\n",
        "left_n_projects['percentage_left'] = per_list\n",
        "left_n_projects.set_index('n_projects', inplace=True)\n",
        "left_n_projects.percentage_left.plot(kind='bar')"
      ],
      "execution_count": 83,
      "outputs": [
        {
          "output_type": "execute_result",
          "data": {
            "text/plain": [
              "<matplotlib.axes._subplots.AxesSubplot at 0x7fd230d15510>"
            ]
          },
          "metadata": {},
          "execution_count": 83
        },
        {
          "output_type": "display_data",
          "data": {
            "image/png": "[encoded data removed]",
            "text/plain": [
              "<Figure size 432x288 with 1 Axes>"
            ]
          },
          "metadata": {
            "needs_background": "light"
          }
        }
      ]
    },
    {
      "cell_type": "code",
      "metadata": {
        "id": "VxkNuL2ok4Bd"
      },
      "source": [
        "# All employees who worked for 7 projects left, 60% of employees who worked either 2 or 6 projects also left."
      ],
      "execution_count": 84,
      "outputs": []
    },
    {
      "cell_type": "code",
      "metadata": {
        "colab": {
          "base_uri": "https://localhost:8080/"
        },
        "id": "Up6UIFSGFpBk",
        "outputId": "13ff7da8-7141-4cb2-931c-3204e4f97e50"
      },
      "source": [
        "df_merged_emp['recently_promoted'].value_counts()"
      ],
      "execution_count": 85,
      "outputs": [
        {
          "output_type": "execute_result",
          "data": {
            "text/plain": [
              "0.0    13819\n",
              "1.0      297\n",
              "Name: recently_promoted, dtype: int64"
            ]
          },
          "metadata": {},
          "execution_count": 85
        }
      ]
    },
    {
      "cell_type": "code",
      "metadata": {
        "colab": {
          "base_uri": "https://localhost:8080/"
        },
        "id": "Qg04bM6qF9eT",
        "outputId": "ee7354c4-999f-48d6-acb5-e87bd13817c7"
      },
      "source": [
        "df_left['recently_promoted'].value_counts()"
      ],
      "execution_count": 86,
      "outputs": [
        {
          "output_type": "execute_result",
          "data": {
            "text/plain": [
              "0.0    3337\n",
              "1.0      18\n",
              "Name: recently_promoted, dtype: int64"
            ]
          },
          "metadata": {},
          "execution_count": 86
        }
      ]
    },
    {
      "cell_type": "code",
      "metadata": {
        "id": "4xjWDPsPI86Z"
      },
      "source": [
        "#Assuming that 0 is for not recently promoted, 99.995% employees that left  are not recently promoted"
      ],
      "execution_count": 87,
      "outputs": []
    },
    {
      "cell_type": "code",
      "metadata": {
        "colab": {
          "base_uri": "https://localhost:8080/"
        },
        "id": "xVLHPtM4I969",
        "outputId": "1a2d6680-0873-4a1c-d7d2-cf2cba99a93d"
      },
      "source": [
        "df_merged_emp.salary.value_counts()"
      ],
      "execution_count": 88,
      "outputs": [
        {
          "output_type": "execute_result",
          "data": {
            "text/plain": [
              "low       6889\n",
              "medium    6086\n",
              "high      1141\n",
              "Name: salary, dtype: int64"
            ]
          },
          "metadata": {},
          "execution_count": 88
        }
      ]
    },
    {
      "cell_type": "code",
      "metadata": {
        "colab": {
          "base_uri": "https://localhost:8080/"
        },
        "id": "Xbl4jlXbJMzy",
        "outputId": "824e664b-3777-4773-f87b-d098c0ee8e8f"
      },
      "source": [
        "df_left.salary.value_counts()"
      ],
      "execution_count": 89,
      "outputs": [
        {
          "output_type": "execute_result",
          "data": {
            "text/plain": [
              "low       2038\n",
              "medium    1240\n",
              "high        77\n",
              "Name: salary, dtype: int64"
            ]
          },
          "metadata": {},
          "execution_count": 89
        }
      ]
    },
    {
      "cell_type": "code",
      "metadata": {
        "colab": {
          "base_uri": "https://localhost:8080/"
        },
        "id": "41opKd5KJYGs",
        "outputId": "375c8a9d-9137-4aa9-b8e9-fb5d8e585836"
      },
      "source": [
        "print(\"% of low salaried employee left is \", len(df_left[df_left['salary']=='low']) / len(df_merged_emp[df_merged_emp['salary']=='low']))\n",
        "print(\"% of medium salaried employee left is \", len(df_left[df_left['salary']=='medium']) / len(df_merged_emp[df_merged_emp['salary']=='medium']))\n",
        "print(\"% of high salaried employee left is \", len(df_left[df_left['salary']=='high']) / len(df_merged_emp[df_merged_emp['salary']=='high']))"
      ],
      "execution_count": 90,
      "outputs": [
        {
          "output_type": "stream",
          "name": "stdout",
          "text": [
            "% of low salaried employee left is  0.2958339381622877\n",
            "% of medium salaried employee left is  0.20374630299046992\n",
            "% of high salaried employee left is  0.06748466257668712\n"
          ]
        }
      ]
    },
    {
      "cell_type": "code",
      "metadata": {
        "colab": {
          "base_uri": "https://localhost:8080/",
          "height": 296
        },
        "id": "4F7vX4M3JyPM",
        "outputId": "ac83377d-6cb0-48d2-94ca-74c11b7a3068"
      },
      "source": [
        "sns.boxplot(x='satisfaction', data=df_merged_emp)"
      ],
      "execution_count": 91,
      "outputs": [
        {
          "output_type": "execute_result",
          "data": {
            "text/plain": [
              "<matplotlib.axes._subplots.AxesSubplot at 0x7fd230c97850>"
            ]
          },
          "metadata": {},
          "execution_count": 91
        },
        {
          "output_type": "display_data",
          "data": {
            "image/png": "[encoded data removed]",
            "text/plain": [
              "<Figure size 432x288 with 1 Axes>"
            ]
          },
          "metadata": {
            "needs_background": "light"
          }
        }
      ]
    },
    {
      "cell_type": "code",
      "metadata": {
        "colab": {
          "base_uri": "https://localhost:8080/",
          "height": 296
        },
        "id": "a3vWKJLqK8R9",
        "outputId": "22f84359-0353-4555-d8d2-149ee867808a"
      },
      "source": [
        "sns.boxplot(x='satisfaction', data=df_left)"
      ],
      "execution_count": 92,
      "outputs": [
        {
          "output_type": "execute_result",
          "data": {
            "text/plain": [
              "<matplotlib.axes._subplots.AxesSubplot at 0x7fd230c02e50>"
            ]
          },
          "metadata": {},
          "execution_count": 92
        },
        {
          "output_type": "display_data",
          "data": {
            "image/png": "[encoded data removed]",
            "text/plain": [
              "<Figure size 432x288 with 1 Axes>"
            ]
          },
          "metadata": {
            "needs_background": "light"
          }
        }
      ]
    },
    {
      "cell_type": "code",
      "metadata": {
        "id": "o8JJOwb0LQg_"
      },
      "source": [
        "# Median score of the satifaction is 0.41 for the employees that are left."
      ],
      "execution_count": 93,
      "outputs": []
    },
    {
      "cell_type": "code",
      "metadata": {
        "colab": {
          "base_uri": "https://localhost:8080/"
        },
        "id": "9tuMwvHQL0a8",
        "outputId": "e8ab65aa-acf5-4a1a-fc4a-d60eed9cff0d"
      },
      "source": [
        "df_merged_emp.tenure.value_counts()"
      ],
      "execution_count": 94,
      "outputs": [
        {
          "output_type": "execute_result",
          "data": {
            "text/plain": [
              "3.00     6156\n",
              "2.00     3019\n",
              "4.00     2386\n",
              "5.00     1363\n",
              "6.00      659\n",
              "10.00     198\n",
              "7.00      180\n",
              "8.00      155\n",
              "Name: tenure, dtype: int64"
            ]
          },
          "metadata": {},
          "execution_count": 94
        }
      ]
    },
    {
      "cell_type": "code",
      "metadata": {
        "colab": {
          "base_uri": "https://localhost:8080/"
        },
        "id": "tqaA1DKXL9g9",
        "outputId": "de8ae848-cc1b-4f86-96f6-a3d729a96b43"
      },
      "source": [
        "df_left.tenure.value_counts()"
      ],
      "execution_count": 95,
      "outputs": [
        {
          "output_type": "execute_result",
          "data": {
            "text/plain": [
              "3.00    1512\n",
              "4.00     834\n",
              "5.00     771\n",
              "6.00     190\n",
              "2.00      48\n",
              "Name: tenure, dtype: int64"
            ]
          },
          "metadata": {},
          "execution_count": 95
        }
      ]
    },
    {
      "cell_type": "code",
      "metadata": {
        "id": "aqjHNdrGMimA"
      },
      "source": [
        "left_tenure= pd.DataFrame(columns=['tenure', 'percentage_left'])\n",
        "left_tenure['tenure']= [2,3,4,5,6,7,8]"
      ],
      "execution_count": 96,
      "outputs": []
    },
    {
      "cell_type": "code",
      "metadata": {
        "colab": {
          "base_uri": "https://localhost:8080/",
          "height": 293
        },
        "id": "2IBzhruQMlqU",
        "outputId": "a996a184-b710-4734-fdf1-4e1e28cefa26"
      },
      "source": [
        "# To know the percentage of employees left based on number of projects worked\n",
        "per_list = []\n",
        "for n in left_tenure['tenure']:\n",
        "  val = len(df_left[df_left['tenure']== n]) / len(df_merged_emp[df_merged_emp['tenure']== n ])\n",
        "  per_list.append(val)\n",
        "\n",
        "left_tenure['percentage_left'] = per_list\n",
        "left_tenure.set_index('tenure', inplace=True)\n",
        "left_tenure.percentage_left.plot(kind='bar')"
      ],
      "execution_count": 97,
      "outputs": [
        {
          "output_type": "execute_result",
          "data": {
            "text/plain": [
              "<matplotlib.axes._subplots.AxesSubplot at 0x7fd230b7b950>"
            ]
          },
          "metadata": {},
          "execution_count": 97
        },
        {
          "output_type": "display_data",
          "data": {
            "image/png": "[encoded data removed]",
            "text/plain": [
              "<Figure size 432x288 with 1 Axes>"
            ]
          },
          "metadata": {
            "needs_background": "light"
          }
        }
      ]
    },
    {
      "cell_type": "code",
      "metadata": {
        "id": "n8eWx37oNk2w"
      },
      "source": [
        "# Attrition rate is increasing as the tenure is in range of 3 to 5"
      ],
      "execution_count": 98,
      "outputs": []
    },
    {
      "cell_type": "markdown",
      "metadata": {
        "id": "kjbMbRLj--co"
      },
      "source": [
        "# Feature Engineering "
      ]
    },
    {
      "cell_type": "code",
      "metadata": {
        "colab": {
          "base_uri": "https://localhost:8080/",
          "height": 379
        },
        "id": "zVT-ze5fwiUp",
        "outputId": "8696d702-f348-48ee-ec8f-ac7f9965f13e"
      },
      "source": [
        "df_merged_emp.head(10)"
      ],
      "execution_count": 99,
      "outputs": [
        {
          "output_type": "execute_result",
          "data": {
            "text/html": [
              "<div>\n",
              "<style scoped>\n",
              "    .dataframe tbody tr th:only-of-type {\n",
              "        vertical-align: middle;\n",
              "    }\n",
              "\n",
              "    .dataframe tbody tr th {\n",
              "        vertical-align: top;\n",
              "    }\n",
              "\n",
              "    .dataframe thead th {\n",
              "        text-align: right;\n",
              "    }\n",
              "</style>\n",
              "<table border=\"1\" class=\"dataframe\">\n",
              "  <thead>\n",
              "    <tr style=\"text-align: right;\">\n",
              "      <th></th>\n",
              "      <th>employee_id</th>\n",
              "      <th>age</th>\n",
              "      <th>gender</th>\n",
              "      <th>marital_status</th>\n",
              "      <th>avg_monthly_hrs</th>\n",
              "      <th>department</th>\n",
              "      <th>filed_complaint</th>\n",
              "      <th>last_evaluation</th>\n",
              "      <th>n_projects</th>\n",
              "      <th>recently_promoted</th>\n",
              "      <th>salary</th>\n",
              "      <th>satisfaction</th>\n",
              "      <th>status</th>\n",
              "      <th>tenure</th>\n",
              "    </tr>\n",
              "  </thead>\n",
              "  <tbody>\n",
              "    <tr>\n",
              "      <th>0</th>\n",
              "      <td>113558</td>\n",
              "      <td>43</td>\n",
              "      <td>Male</td>\n",
              "      <td>Married</td>\n",
              "      <td>111.0</td>\n",
              "      <td>D00-PR</td>\n",
              "      <td>0</td>\n",
              "      <td>0.753977</td>\n",
              "      <td>5</td>\n",
              "      <td>1.0</td>\n",
              "      <td>medium</td>\n",
              "      <td>0.921208</td>\n",
              "      <td>Employed</td>\n",
              "      <td>4.00</td>\n",
              "    </tr>\n",
              "    <tr>\n",
              "      <th>1</th>\n",
              "      <td>112256</td>\n",
              "      <td>24</td>\n",
              "      <td>Female</td>\n",
              "      <td>Unmarried</td>\n",
              "      <td>201.0</td>\n",
              "      <td>D00-MN</td>\n",
              "      <td>0</td>\n",
              "      <td>0.964453</td>\n",
              "      <td>3</td>\n",
              "      <td>0.0</td>\n",
              "      <td>medium</td>\n",
              "      <td>0.568479</td>\n",
              "      <td>Employed</td>\n",
              "      <td>3.00</td>\n",
              "    </tr>\n",
              "    <tr>\n",
              "      <th>2</th>\n",
              "      <td>112586</td>\n",
              "      <td>22</td>\n",
              "      <td>Female</td>\n",
              "      <td>Unmarried</td>\n",
              "      <td>239.0</td>\n",
              "      <td>D00-SS</td>\n",
              "      <td>0</td>\n",
              "      <td>0.756458</td>\n",
              "      <td>3</td>\n",
              "      <td>0.0</td>\n",
              "      <td>low</td>\n",
              "      <td>0.144812</td>\n",
              "      <td>Employed</td>\n",
              "      <td>6.00</td>\n",
              "    </tr>\n",
              "    <tr>\n",
              "      <th>3</th>\n",
              "      <td>108071</td>\n",
              "      <td>36</td>\n",
              "      <td>Male</td>\n",
              "      <td>Married</td>\n",
              "      <td>151.0</td>\n",
              "      <td>D00-PR</td>\n",
              "      <td>0</td>\n",
              "      <td>0.608282</td>\n",
              "      <td>5</td>\n",
              "      <td>0.0</td>\n",
              "      <td>medium</td>\n",
              "      <td>0.210300</td>\n",
              "      <td>Employed</td>\n",
              "      <td>6.00</td>\n",
              "    </tr>\n",
              "    <tr>\n",
              "      <th>4</th>\n",
              "      <td>116915</td>\n",
              "      <td>38</td>\n",
              "      <td>Male</td>\n",
              "      <td>Married</td>\n",
              "      <td>259.0</td>\n",
              "      <td>D00-IT</td>\n",
              "      <td>0</td>\n",
              "      <td>0.749206</td>\n",
              "      <td>4</td>\n",
              "      <td>0.0</td>\n",
              "      <td>medium</td>\n",
              "      <td>0.888514</td>\n",
              "      <td>Employed</td>\n",
              "      <td>3.00</td>\n",
              "    </tr>\n",
              "    <tr>\n",
              "      <th>5</th>\n",
              "      <td>104555</td>\n",
              "      <td>22</td>\n",
              "      <td>Male</td>\n",
              "      <td>Unmarried</td>\n",
              "      <td>180.0</td>\n",
              "      <td>D00-SP</td>\n",
              "      <td>0</td>\n",
              "      <td>0.772377</td>\n",
              "      <td>3</td>\n",
              "      <td>0.0</td>\n",
              "      <td>low</td>\n",
              "      <td>0.356638</td>\n",
              "      <td>Employed</td>\n",
              "      <td>6.00</td>\n",
              "    </tr>\n",
              "    <tr>\n",
              "      <th>6</th>\n",
              "      <td>104706</td>\n",
              "      <td>51</td>\n",
              "      <td>Male</td>\n",
              "      <td>Married</td>\n",
              "      <td>194.0</td>\n",
              "      <td>D00-SS</td>\n",
              "      <td>0</td>\n",
              "      <td>0.534309</td>\n",
              "      <td>5</td>\n",
              "      <td>0.0</td>\n",
              "      <td>high</td>\n",
              "      <td>0.969191</td>\n",
              "      <td>Employed</td>\n",
              "      <td>2.00</td>\n",
              "    </tr>\n",
              "    <tr>\n",
              "      <th>7</th>\n",
              "      <td>118536</td>\n",
              "      <td>54</td>\n",
              "      <td>Male</td>\n",
              "      <td>Married</td>\n",
              "      <td>269.0</td>\n",
              "      <td>D00-IT</td>\n",
              "      <td>0</td>\n",
              "      <td>0.843665</td>\n",
              "      <td>6</td>\n",
              "      <td>0.0</td>\n",
              "      <td>low</td>\n",
              "      <td>0.084765</td>\n",
              "      <td>Left</td>\n",
              "      <td>4.00</td>\n",
              "    </tr>\n",
              "    <tr>\n",
              "      <th>8</th>\n",
              "      <td>111712</td>\n",
              "      <td>43</td>\n",
              "      <td>Male</td>\n",
              "      <td>Married</td>\n",
              "      <td>192.0</td>\n",
              "      <td>D00-SP</td>\n",
              "      <td>0</td>\n",
              "      <td>0.750987</td>\n",
              "      <td>4</td>\n",
              "      <td>0.0</td>\n",
              "      <td>low</td>\n",
              "      <td>0.617988</td>\n",
              "      <td>Employed</td>\n",
              "      <td>2.00</td>\n",
              "    </tr>\n",
              "    <tr>\n",
              "      <th>9</th>\n",
              "      <td>119150</td>\n",
              "      <td>49</td>\n",
              "      <td>Male</td>\n",
              "      <td>Married</td>\n",
              "      <td>205.0</td>\n",
              "      <td>D00-SS</td>\n",
              "      <td>1.00</td>\n",
              "      <td>0.534207</td>\n",
              "      <td>4</td>\n",
              "      <td>0.0</td>\n",
              "      <td>low</td>\n",
              "      <td>0.129333</td>\n",
              "      <td>Employed</td>\n",
              "      <td>5.00</td>\n",
              "    </tr>\n",
              "  </tbody>\n",
              "</table>\n",
              "</div>"
            ],
            "text/plain": [
              "   employee_id  age  gender  ... satisfaction    status tenure\n",
              "0       113558   43    Male  ...     0.921208  Employed   4.00\n",
              "1       112256   24  Female  ...     0.568479  Employed   3.00\n",
              "2       112586   22  Female  ...     0.144812  Employed   6.00\n",
              "3       108071   36    Male  ...     0.210300  Employed   6.00\n",
              "4       116915   38    Male  ...     0.888514  Employed   3.00\n",
              "5       104555   22    Male  ...     0.356638  Employed   6.00\n",
              "6       104706   51    Male  ...     0.969191  Employed   2.00\n",
              "7       118536   54    Male  ...     0.084765      Left   4.00\n",
              "8       111712   43    Male  ...     0.617988  Employed   2.00\n",
              "9       119150   49    Male  ...     0.129333  Employed   5.00\n",
              "\n",
              "[10 rows x 14 columns]"
            ]
          },
          "metadata": {},
          "execution_count": 99
        }
      ]
    },
    {
      "cell_type": "code",
      "metadata": {
        "id": "al3O0diHyJ3_"
      },
      "source": [
        "df_merged_emp['filed_complaint'] = df_merged_emp['filed_complaint'].astype(int)"
      ],
      "execution_count": 100,
      "outputs": []
    },
    {
      "cell_type": "code",
      "metadata": {
        "id": "q8CC3fyqyqPO"
      },
      "source": [
        "df_merged_emp['tenure'] = df_merged_emp['tenure'].astype(int)"
      ],
      "execution_count": 101,
      "outputs": []
    },
    {
      "cell_type": "code",
      "metadata": {
        "id": "3pmvAVNMzXOY"
      },
      "source": [
        "# dropping employee_id column as its unique number\n",
        "df_merged_emp.drop(labels=['employee_id'], axis=1, inplace=True)"
      ],
      "execution_count": 102,
      "outputs": []
    },
    {
      "cell_type": "code",
      "metadata": {
        "id": "GIY8XALSw42g"
      },
      "source": [
        "cat_cols=df_merged_emp.select_dtypes(include='object').columns"
      ],
      "execution_count": 103,
      "outputs": []
    },
    {
      "cell_type": "code",
      "metadata": {
        "id": "7lQzJ37O1OeS"
      },
      "source": [
        "label = df_merged_emp.pop('status')"
      ],
      "execution_count": 105,
      "outputs": []
    },
    {
      "cell_type": "code",
      "metadata": {
        "id": "2yXBR1or73td"
      },
      "source": [
        "label = label.map({'Employed': 0, 'Left': 1})"
      ],
      "execution_count": 106,
      "outputs": []
    },
    {
      "cell_type": "code",
      "metadata": {
        "id": "7spKb-BEbBlV"
      },
      "source": [
        "cat_cols=df_merged_emp.select_dtypes(include='object').columns"
      ],
      "execution_count": 108,
      "outputs": []
    },
    {
      "cell_type": "code",
      "metadata": {
        "colab": {
          "base_uri": "https://localhost:8080/"
        },
        "id": "2nOX1l5TxFv_",
        "outputId": "859101ce-626f-4dcb-f63c-a3d625198691"
      },
      "source": [
        "cat_cols"
      ],
      "execution_count": 109,
      "outputs": [
        {
          "output_type": "execute_result",
          "data": {
            "text/plain": [
              "Index(['gender', 'marital_status', 'department', 'salary'], dtype='object')"
            ]
          },
          "metadata": {},
          "execution_count": 109
        }
      ]
    },
    {
      "cell_type": "code",
      "metadata": {
        "id": "xdOmdvGF88bE"
      },
      "source": [
        "df_merged_emp_dum = pd.get_dummies(df_merged_emp, columns=cat_cols) #drop_first=True"
      ],
      "execution_count": 110,
      "outputs": []
    },
    {
      "cell_type": "code",
      "metadata": {
        "colab": {
          "base_uri": "https://localhost:8080/",
          "height": 241
        },
        "id": "fMTPe7wK9ZDn",
        "outputId": "3b31e177-d07b-42bf-dc85-b5b222d9821d"
      },
      "source": [
        "df_merged_emp_dum.head()"
      ],
      "execution_count": 111,
      "outputs": [
        {
          "output_type": "execute_result",
          "data": {
            "text/html": [
              "<div>\n",
              "<style scoped>\n",
              "    .dataframe tbody tr th:only-of-type {\n",
              "        vertical-align: middle;\n",
              "    }\n",
              "\n",
              "    .dataframe tbody tr th {\n",
              "        vertical-align: top;\n",
              "    }\n",
              "\n",
              "    .dataframe thead th {\n",
              "        text-align: right;\n",
              "    }\n",
              "</style>\n",
              "<table border=\"1\" class=\"dataframe\">\n",
              "  <thead>\n",
              "    <tr style=\"text-align: right;\">\n",
              "      <th></th>\n",
              "      <th>age</th>\n",
              "      <th>avg_monthly_hrs</th>\n",
              "      <th>filed_complaint</th>\n",
              "      <th>last_evaluation</th>\n",
              "      <th>n_projects</th>\n",
              "      <th>recently_promoted</th>\n",
              "      <th>satisfaction</th>\n",
              "      <th>tenure</th>\n",
              "      <th>gender_Female</th>\n",
              "      <th>gender_Male</th>\n",
              "      <th>marital_status_Married</th>\n",
              "      <th>marital_status_Unmarried</th>\n",
              "      <th>department_D00-AD</th>\n",
              "      <th>department_D00-ENG</th>\n",
              "      <th>department_D00-FN</th>\n",
              "      <th>department_D00-IT</th>\n",
              "      <th>department_D00-MN</th>\n",
              "      <th>department_D00-MT</th>\n",
              "      <th>department_D00-PD</th>\n",
              "      <th>department_D00-PR</th>\n",
              "      <th>department_D00-SP</th>\n",
              "      <th>department_D00-SS</th>\n",
              "      <th>department_D00-TP</th>\n",
              "      <th>salary_high</th>\n",
              "      <th>salary_low</th>\n",
              "      <th>salary_medium</th>\n",
              "    </tr>\n",
              "  </thead>\n",
              "  <tbody>\n",
              "    <tr>\n",
              "      <th>0</th>\n",
              "      <td>43</td>\n",
              "      <td>111.0</td>\n",
              "      <td>0</td>\n",
              "      <td>0.753977</td>\n",
              "      <td>5</td>\n",
              "      <td>1.0</td>\n",
              "      <td>0.921208</td>\n",
              "      <td>4</td>\n",
              "      <td>0</td>\n",
              "      <td>1</td>\n",
              "      <td>1</td>\n",
              "      <td>0</td>\n",
              "      <td>0</td>\n",
              "      <td>0</td>\n",
              "      <td>0</td>\n",
              "      <td>0</td>\n",
              "      <td>0</td>\n",
              "      <td>0</td>\n",
              "      <td>0</td>\n",
              "      <td>1</td>\n",
              "      <td>0</td>\n",
              "      <td>0</td>\n",
              "      <td>0</td>\n",
              "      <td>0</td>\n",
              "      <td>0</td>\n",
              "      <td>1</td>\n",
              "    </tr>\n",
              "    <tr>\n",
              "      <th>1</th>\n",
              "      <td>24</td>\n",
              "      <td>201.0</td>\n",
              "      <td>0</td>\n",
              "      <td>0.964453</td>\n",
              "      <td>3</td>\n",
              "      <td>0.0</td>\n",
              "      <td>0.568479</td>\n",
              "      <td>3</td>\n",
              "      <td>1</td>\n",
              "      <td>0</td>\n",
              "      <td>0</td>\n",
              "      <td>1</td>\n",
              "      <td>0</td>\n",
              "      <td>0</td>\n",
              "      <td>0</td>\n",
              "      <td>0</td>\n",
              "      <td>1</td>\n",
              "      <td>0</td>\n",
              "      <td>0</td>\n",
              "      <td>0</td>\n",
              "      <td>0</td>\n",
              "      <td>0</td>\n",
              "      <td>0</td>\n",
              "      <td>0</td>\n",
              "      <td>0</td>\n",
              "      <td>1</td>\n",
              "    </tr>\n",
              "    <tr>\n",
              "      <th>2</th>\n",
              "      <td>22</td>\n",
              "      <td>239.0</td>\n",
              "      <td>0</td>\n",
              "      <td>0.756458</td>\n",
              "      <td>3</td>\n",
              "      <td>0.0</td>\n",
              "      <td>0.144812</td>\n",
              "      <td>6</td>\n",
              "      <td>1</td>\n",
              "      <td>0</td>\n",
              "      <td>0</td>\n",
              "      <td>1</td>\n",
              "      <td>0</td>\n",
              "      <td>0</td>\n",
              "      <td>0</td>\n",
              "      <td>0</td>\n",
              "      <td>0</td>\n",
              "      <td>0</td>\n",
              "      <td>0</td>\n",
              "      <td>0</td>\n",
              "      <td>0</td>\n",
              "      <td>1</td>\n",
              "      <td>0</td>\n",
              "      <td>0</td>\n",
              "      <td>1</td>\n",
              "      <td>0</td>\n",
              "    </tr>\n",
              "    <tr>\n",
              "      <th>3</th>\n",
              "      <td>36</td>\n",
              "      <td>151.0</td>\n",
              "      <td>0</td>\n",
              "      <td>0.608282</td>\n",
              "      <td>5</td>\n",
              "      <td>0.0</td>\n",
              "      <td>0.210300</td>\n",
              "      <td>6</td>\n",
              "      <td>0</td>\n",
              "      <td>1</td>\n",
              "      <td>1</td>\n",
              "      <td>0</td>\n",
              "      <td>0</td>\n",
              "      <td>0</td>\n",
              "      <td>0</td>\n",
              "      <td>0</td>\n",
              "      <td>0</td>\n",
              "      <td>0</td>\n",
              "      <td>0</td>\n",
              "      <td>1</td>\n",
              "      <td>0</td>\n",
              "      <td>0</td>\n",
              "      <td>0</td>\n",
              "      <td>0</td>\n",
              "      <td>0</td>\n",
              "      <td>1</td>\n",
              "    </tr>\n",
              "    <tr>\n",
              "      <th>4</th>\n",
              "      <td>38</td>\n",
              "      <td>259.0</td>\n",
              "      <td>0</td>\n",
              "      <td>0.749206</td>\n",
              "      <td>4</td>\n",
              "      <td>0.0</td>\n",
              "      <td>0.888514</td>\n",
              "      <td>3</td>\n",
              "      <td>0</td>\n",
              "      <td>1</td>\n",
              "      <td>1</td>\n",
              "      <td>0</td>\n",
              "      <td>0</td>\n",
              "      <td>0</td>\n",
              "      <td>0</td>\n",
              "      <td>1</td>\n",
              "      <td>0</td>\n",
              "      <td>0</td>\n",
              "      <td>0</td>\n",
              "      <td>0</td>\n",
              "      <td>0</td>\n",
              "      <td>0</td>\n",
              "      <td>0</td>\n",
              "      <td>0</td>\n",
              "      <td>0</td>\n",
              "      <td>1</td>\n",
              "    </tr>\n",
              "  </tbody>\n",
              "</table>\n",
              "</div>"
            ],
            "text/plain": [
              "   age  avg_monthly_hrs  ...  salary_low  salary_medium\n",
              "0   43            111.0  ...           0              1\n",
              "1   24            201.0  ...           0              1\n",
              "2   22            239.0  ...           1              0\n",
              "3   36            151.0  ...           0              1\n",
              "4   38            259.0  ...           0              1\n",
              "\n",
              "[5 rows x 26 columns]"
            ]
          },
          "metadata": {},
          "execution_count": 111
        }
      ]
    },
    {
      "cell_type": "markdown",
      "metadata": {
        "id": "KSItwkYy_FLL"
      },
      "source": [
        "# Build models"
      ]
    },
    {
      "cell_type": "code",
      "metadata": {
        "id": "jnjh1s-o1Ec1"
      },
      "source": [
        "from sklearn.model_selection import train_test_split\n",
        "\n",
        "X_train,X_test,y_train,y_test=train_test_split(df_merged_emp_dum,label,test_size=0.20, random_state=42, stratify=label)"
      ],
      "execution_count": 112,
      "outputs": []
    },
    {
      "cell_type": "code",
      "metadata": {
        "colab": {
          "base_uri": "https://localhost:8080/"
        },
        "id": "g1vv5Nrj-jqE",
        "outputId": "b1ff2d50-b57e-44e8-ab49-50a4eaa11db6"
      },
      "source": [
        "from sklearn.ensemble import RandomForestClassifier\n",
        "from sklearn.ensemble import VotingClassifier\n",
        "from sklearn.linear_model import LogisticRegression\n",
        "from sklearn.tree import DecisionTreeClassifier\n",
        "\n",
        "log_clf = LogisticRegression(random_state=42)\n",
        "rnd_clf = RandomForestClassifier(random_state=42, n_jobs=-1)\n",
        "dclf=DecisionTreeClassifier(random_state=42)\n",
        "\n",
        "# here we are using soft  voting\n",
        "voting_clf = VotingClassifier(\n",
        "    estimators=[('lr', log_clf), ('rf', rnd_clf), ('dtf',dclf)], voting='soft')\n",
        "voting_clf.fit(X_train, y_train)"
      ],
      "execution_count": 113,
      "outputs": [
        {
          "output_type": "execute_result",
          "data": {
            "text/plain": [
              "VotingClassifier(estimators=[('lr',\n",
              "                              LogisticRegression(C=1.0, class_weight=None,\n",
              "                                                 dual=False, fit_intercept=True,\n",
              "                                                 intercept_scaling=1,\n",
              "                                                 l1_ratio=None, max_iter=100,\n",
              "                                                 multi_class='auto',\n",
              "                                                 n_jobs=None, penalty='l2',\n",
              "                                                 random_state=42,\n",
              "                                                 solver='lbfgs', tol=0.0001,\n",
              "                                                 verbose=0, warm_start=False)),\n",
              "                             ('rf',\n",
              "                              RandomForestClassifier(bootstrap=True,\n",
              "                                                     ccp_alpha=0.0,\n",
              "                                                     class_weight=None,\n",
              "                                                     crit...\n",
              "                              DecisionTreeClassifier(ccp_alpha=0.0,\n",
              "                                                     class_weight=None,\n",
              "                                                     criterion='gini',\n",
              "                                                     max_depth=None,\n",
              "                                                     max_features=None,\n",
              "                                                     max_leaf_nodes=None,\n",
              "                                                     min_impurity_decrease=0.0,\n",
              "                                                     min_impurity_split=None,\n",
              "                                                     min_samples_leaf=1,\n",
              "                                                     min_samples_split=2,\n",
              "                                                     min_weight_fraction_leaf=0.0,\n",
              "                                                     presort='deprecated',\n",
              "                                                     random_state=42,\n",
              "                                                     splitter='best'))],\n",
              "                 flatten_transform=True, n_jobs=None, voting='soft',\n",
              "                 weights=None)"
            ]
          },
          "metadata": {},
          "execution_count": 113
        }
      ]
    },
    {
      "cell_type": "markdown",
      "metadata": {
        "id": "CfC1ZGbdV5fR"
      },
      "source": [
        "#### Trying with reduced set of features"
      ]
    },
    {
      "cell_type": "code",
      "metadata": {
        "id": "yWAUz8eBhZec"
      },
      "source": [
        "df_merged_emp2 = df_merged_emp.drop(labels=['age','gender','marital_status'], axis=1)"
      ],
      "execution_count": 122,
      "outputs": []
    },
    {
      "cell_type": "code",
      "metadata": {
        "colab": {
          "base_uri": "https://localhost:8080/"
        },
        "id": "tpqTSE95huQQ",
        "outputId": "5573a2c7-1a0f-43e5-ecb1-7760ca6518d1"
      },
      "source": [
        "df_merged_emp2.info()"
      ],
      "execution_count": 123,
      "outputs": [
        {
          "output_type": "stream",
          "name": "stdout",
          "text": [
            "<class 'pandas.core.frame.DataFrame'>\n",
            "Int64Index: 14116 entries, 0 to 14115\n",
            "Data columns (total 9 columns):\n",
            " #   Column             Non-Null Count  Dtype  \n",
            "---  ------             --------------  -----  \n",
            " 0   avg_monthly_hrs    14116 non-null  float64\n",
            " 1   department         14116 non-null  object \n",
            " 2   filed_complaint    14116 non-null  int64  \n",
            " 3   last_evaluation    14116 non-null  float64\n",
            " 4   n_projects         14116 non-null  int64  \n",
            " 5   recently_promoted  14116 non-null  float64\n",
            " 6   salary             14116 non-null  object \n",
            " 7   satisfaction       14116 non-null  float64\n",
            " 8   tenure             14116 non-null  int64  \n",
            "dtypes: float64(4), int64(3), object(2)\n",
            "memory usage: 1.1+ MB\n"
          ]
        }
      ]
    },
    {
      "cell_type": "code",
      "metadata": {
        "id": "M_6v-elcpLHH"
      },
      "source": [
        "cat_cols2=df_merged_emp2.select_dtypes(include='object').columns"
      ],
      "execution_count": 146,
      "outputs": []
    },
    {
      "cell_type": "code",
      "metadata": {
        "id": "EB-PbegqpQCt"
      },
      "source": [
        "df_merged_emp2_dum = pd.get_dummies(df_merged_emp2, columns=cat_cols2)"
      ],
      "execution_count": 147,
      "outputs": []
    },
    {
      "cell_type": "code",
      "metadata": {
        "colab": {
          "base_uri": "https://localhost:8080/"
        },
        "id": "71QgqL5ypW6W",
        "outputId": "9438204a-ebf1-44d3-a17e-1d2665671f2d"
      },
      "source": [
        "df_merged_emp2_dum.info()"
      ],
      "execution_count": 148,
      "outputs": [
        {
          "output_type": "stream",
          "name": "stdout",
          "text": [
            "<class 'pandas.core.frame.DataFrame'>\n",
            "Int64Index: 14116 entries, 0 to 14115\n",
            "Data columns (total 21 columns):\n",
            " #   Column              Non-Null Count  Dtype  \n",
            "---  ------              --------------  -----  \n",
            " 0   avg_monthly_hrs     14116 non-null  float64\n",
            " 1   filed_complaint     14116 non-null  int64  \n",
            " 2   last_evaluation     14116 non-null  float64\n",
            " 3   n_projects          14116 non-null  int64  \n",
            " 4   recently_promoted   14116 non-null  float64\n",
            " 5   satisfaction        14116 non-null  float64\n",
            " 6   tenure              14116 non-null  int64  \n",
            " 7   department_D00-AD   14116 non-null  uint8  \n",
            " 8   department_D00-ENG  14116 non-null  uint8  \n",
            " 9   department_D00-FN   14116 non-null  uint8  \n",
            " 10  department_D00-IT   14116 non-null  uint8  \n",
            " 11  department_D00-MN   14116 non-null  uint8  \n",
            " 12  department_D00-MT   14116 non-null  uint8  \n",
            " 13  department_D00-PD   14116 non-null  uint8  \n",
            " 14  department_D00-PR   14116 non-null  uint8  \n",
            " 15  department_D00-SP   14116 non-null  uint8  \n",
            " 16  department_D00-SS   14116 non-null  uint8  \n",
            " 17  department_D00-TP   14116 non-null  uint8  \n",
            " 18  salary_high         14116 non-null  uint8  \n",
            " 19  salary_low          14116 non-null  uint8  \n",
            " 20  salary_medium       14116 non-null  uint8  \n",
            "dtypes: float64(4), int64(3), uint8(14)\n",
            "memory usage: 1.1 MB\n"
          ]
        }
      ]
    },
    {
      "cell_type": "code",
      "metadata": {
        "id": "Z9mj5-wkt-ZF"
      },
      "source": [
        "X_train2,X_test2,y_train2,y_test2=train_test_split(df_merged_emp2_dum,label,test_size=0.20, random_state=42, stratify=label)"
      ],
      "execution_count": 170,
      "outputs": []
    },
    {
      "cell_type": "code",
      "metadata": {
        "colab": {
          "base_uri": "https://localhost:8080/"
        },
        "id": "qaBt9f6xuJkj",
        "outputId": "4c8a7dd8-5842-4e06-f559-c0f1ec03a5e6"
      },
      "source": [
        "log_clf2 = LogisticRegression(random_state=42)\n",
        "rnd_clf2 = RandomForestClassifier(random_state=42, n_jobs=-1)\n",
        "dclf2=DecisionTreeClassifier(random_state=42)\n",
        "\n",
        "# here we are using soft  voting\n",
        "voting_clf2 = VotingClassifier(\n",
        "    estimators=[('lr', log_clf2), ('rf', rnd_clf2), ('dtf',dclf2)], voting='soft')\n",
        "voting_clf2.fit(X_train2, y_train2)"
      ],
      "execution_count": 171,
      "outputs": [
        {
          "output_type": "execute_result",
          "data": {
            "text/plain": [
              "VotingClassifier(estimators=[('lr',\n",
              "                              LogisticRegression(C=1.0, class_weight=None,\n",
              "                                                 dual=False, fit_intercept=True,\n",
              "                                                 intercept_scaling=1,\n",
              "                                                 l1_ratio=None, max_iter=100,\n",
              "                                                 multi_class='auto',\n",
              "                                                 n_jobs=None, penalty='l2',\n",
              "                                                 random_state=42,\n",
              "                                                 solver='lbfgs', tol=0.0001,\n",
              "                                                 verbose=0, warm_start=False)),\n",
              "                             ('rf',\n",
              "                              RandomForestClassifier(bootstrap=True,\n",
              "                                                     ccp_alpha=0.0,\n",
              "                                                     class_weight=None,\n",
              "                                                     crit...\n",
              "                              DecisionTreeClassifier(ccp_alpha=0.0,\n",
              "                                                     class_weight=None,\n",
              "                                                     criterion='gini',\n",
              "                                                     max_depth=None,\n",
              "                                                     max_features=None,\n",
              "                                                     max_leaf_nodes=None,\n",
              "                                                     min_impurity_decrease=0.0,\n",
              "                                                     min_impurity_split=None,\n",
              "                                                     min_samples_leaf=1,\n",
              "                                                     min_samples_split=2,\n",
              "                                                     min_weight_fraction_leaf=0.0,\n",
              "                                                     presort='deprecated',\n",
              "                                                     random_state=42,\n",
              "                                                     splitter='best'))],\n",
              "                 flatten_transform=True, n_jobs=None, voting='soft',\n",
              "                 weights=None)"
            ]
          },
          "metadata": {},
          "execution_count": 171
        }
      ]
    },
    {
      "cell_type": "markdown",
      "metadata": {
        "id": "2qlxMPn8_gf3"
      },
      "source": [
        "# Evaluating the Models"
      ]
    },
    {
      "cell_type": "code",
      "metadata": {
        "colab": {
          "base_uri": "https://localhost:8080/"
        },
        "id": "gMO5MPff_Yr9",
        "outputId": "de17f4ab-8c68-4753-87c6-93f0b8119a34"
      },
      "source": [
        "from sklearn.metrics import accuracy_score\n",
        "print('Accuracy scores are : ')\n",
        "for clf in (log_clf, rnd_clf, dclf, voting_clf):\n",
        "  clf.fit(X_train, y_train)\n",
        "  y_pred = clf.predict(X_test)\n",
        "  print(clf.__class__.__name__, accuracy_score(y_test, y_pred))\n",
        "\n",
        "from sklearn.metrics import roc_auc_score\n",
        "print(' roc_auc_scores are : ')\n",
        "for clf in (log_clf, rnd_clf, dclf, voting_clf):\n",
        "  clf.fit(X_train, y_train)\n",
        "  print(clf.__class__.__name__, roc_auc_score(y_test, clf.predict_proba(X_test)[:, 1])) "
      ],
      "execution_count": 114,
      "outputs": [
        {
          "output_type": "stream",
          "name": "stdout",
          "text": [
            "Accuracy scores are : \n",
            "LogisticRegression 0.8080736543909348\n",
            "RandomForestClassifier 0.9801699716713881\n",
            "DecisionTreeClassifier 0.9642351274787535\n",
            "VotingClassifier 0.9734419263456091\n",
            " roc_auc_scores are : \n",
            "LogisticRegression 0.8224111782471067\n",
            "RandomForestClassifier 0.9921216920485955\n",
            "DecisionTreeClassifier 0.9555145386848005\n",
            "VotingClassifier 0.9887281670534928\n"
          ]
        }
      ]
    },
    {
      "cell_type": "code",
      "metadata": {
        "colab": {
          "base_uri": "https://localhost:8080/"
        },
        "id": "udsRIFamcTez",
        "outputId": "db944b91-48f9-4763-97bb-d509b9848a8b"
      },
      "source": [
        "from sklearn.metrics import f1_score\n",
        "\n",
        "print('F1  scores are : ')\n",
        "for clf in (log_clf, rnd_clf, dclf, voting_clf):\n",
        "  clf.fit(X_train, y_train)\n",
        "  y_pred = clf.predict(X_test)\n",
        "  print(clf.__class__.__name__, f1_score(y_test, y_pred))"
      ],
      "execution_count": 115,
      "outputs": [
        {
          "output_type": "stream",
          "name": "stdout",
          "text": [
            "F1  scores are : \n",
            "LogisticRegression 0.5009208103130756\n",
            "RandomForestClassifier 0.9572519083969465\n",
            "DecisionTreeClassifier 0.925789860396767\n",
            "VotingClassifier 0.9433962264150944\n"
          ]
        }
      ]
    },
    {
      "cell_type": "code",
      "metadata": {
        "colab": {
          "base_uri": "https://localhost:8080/"
        },
        "id": "abMYNmW9ueJX",
        "outputId": "9c5f729e-b0fb-461f-f6c4-4d7a23587430"
      },
      "source": [
        "print(' roc_auc_scores are : ')\n",
        "for clf in (log_clf2, rnd_clf2, dclf2, voting_clf2):\n",
        "  clf.fit(X_train2, y_train2)\n",
        "  print(clf.__class__.__name__, roc_auc_score(y_test2, clf.predict_proba(X_test2)[:, 1])) "
      ],
      "execution_count": 172,
      "outputs": [
        {
          "output_type": "stream",
          "name": "stdout",
          "text": [
            " roc_auc_scores are : \n",
            "LogisticRegression 0.8133010951342978\n",
            "RandomForestClassifier 0.9925550110994745\n",
            "DecisionTreeClassifier 0.9634689889614394\n",
            "VotingClassifier 0.9881266426841416\n"
          ]
        }
      ]
    },
    {
      "cell_type": "code",
      "metadata": {
        "colab": {
          "base_uri": "https://localhost:8080/"
        },
        "id": "PNbLLZ2SupHQ",
        "outputId": "bdcd37c3-3e0c-4128-8081-3a0143b27ab2"
      },
      "source": [
        "print('F1  scores are : ')\n",
        "for clf in (log_clf2, rnd_clf2, dclf2, voting_clf2):\n",
        "  clf.fit(X_train2, y_train2)\n",
        "  y_pred2 = clf.predict(X_test2)\n",
        "  print(clf.__class__.__name__, f1_score(y_test2, y_pred2))"
      ],
      "execution_count": 173,
      "outputs": [
        {
          "output_type": "stream",
          "name": "stdout",
          "text": [
            "F1  scores are : \n",
            "LogisticRegression 0.4427767354596623\n",
            "RandomForestClassifier 0.9564553093964858\n",
            "DecisionTreeClassifier 0.9408284023668638\n",
            "VotingClassifier 0.9525959367945824\n"
          ]
        }
      ]
    },
    {
      "cell_type": "markdown",
      "metadata": {
        "id": "gq_7ey9EUXpK"
      },
      "source": [
        "### Taking the RandomForestClassifier 0.95645 [rnd_clf2] as final model to test the unseen data."
      ]
    },
    {
      "cell_type": "markdown",
      "metadata": {
        "id": "aDQRmulnUkrs"
      },
      "source": [
        "### Unseen Data "
      ]
    },
    {
      "cell_type": "code",
      "metadata": {
        "colab": {
          "resources": {
            "http://localhost:8080/nbextensions/google.colab/files.js": {
              "data": "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",
              "ok": true,
              "headers": [
                [
                  "content-type",
                  "application/javascript"
                ]
              ],
              "status": 200,
              "status_text": ""
            }
          },
          "base_uri": "https://localhost:8080/",
          "height": 72
        },
        "id": "XpV4JIG1dKmf",
        "outputId": "f2382779-422c-47fa-9683-8f83435ccebe"
      },
      "source": [
        "from google.colab import files\n",
        "uploaded = files.upload()"
      ],
      "execution_count": 118,
      "outputs": [
        {
          "output_type": "display_data",
          "data": {
            "text/html": [
              "\n",
              "     <input type=\"file\" id=\"files-a8fea1fa-0358-4b9a-8f65-5974eeeb829e\" name=\"files[]\" multiple disabled\n",
              "        style=\"border:none\" />\n",
              "     <output id=\"result-a8fea1fa-0358-4b9a-8f65-5974eeeb829e\">\n",
              "      Upload widget is only available when the cell has been executed in the\n",
              "      current browser session. Please rerun this cell to enable.\n",
              "      </output>\n",
              "      <script src=\"/nbextensions/google.colab/files.js\"></script> "
            ],
            "text/plain": [
              "<IPython.core.display.HTML object>"
            ]
          },
          "metadata": {}
        },
        {
          "output_type": "stream",
          "name": "stdout",
          "text": [
            "Saving GCD_Capstone_Project_unseen_data - GCD_Capstone_Project_unseen_data.csv to GCD_Capstone_Project_unseen_data - GCD_Capstone_Project_unseen_data.csv\n"
          ]
        }
      ]
    },
    {
      "cell_type": "code",
      "metadata": {
        "colab": {
          "base_uri": "https://localhost:8080/",
          "height": 204
        },
        "id": "Y7MfznzneGiy",
        "outputId": "6aea2820-893a-4027-e1dd-3a518a1c0734"
      },
      "source": [
        "import io\n",
        "usd_df = pd.read_csv(io.BytesIO(uploaded['GCD_Capstone_Project_unseen_data - GCD_Capstone_Project_unseen_data.csv']))\n",
        "usd_df.head(5)"
      ],
      "execution_count": 155,
      "outputs": [
        {
          "output_type": "execute_result",
          "data": {
            "text/html": [
              "<div>\n",
              "<style scoped>\n",
              "    .dataframe tbody tr th:only-of-type {\n",
              "        vertical-align: middle;\n",
              "    }\n",
              "\n",
              "    .dataframe tbody tr th {\n",
              "        vertical-align: top;\n",
              "    }\n",
              "\n",
              "    .dataframe thead th {\n",
              "        text-align: right;\n",
              "    }\n",
              "</style>\n",
              "<table border=\"1\" class=\"dataframe\">\n",
              "  <thead>\n",
              "    <tr style=\"text-align: right;\">\n",
              "      <th></th>\n",
              "      <th>avg_monthly_hrs</th>\n",
              "      <th>department</th>\n",
              "      <th>filed_complaint</th>\n",
              "      <th>last_evaluation</th>\n",
              "      <th>n_projects</th>\n",
              "      <th>recently_promoted</th>\n",
              "      <th>salary</th>\n",
              "      <th>satisfaction</th>\n",
              "      <th>tenure</th>\n",
              "      <th>employee_id</th>\n",
              "    </tr>\n",
              "  </thead>\n",
              "  <tbody>\n",
              "    <tr>\n",
              "      <th>0</th>\n",
              "      <td>134</td>\n",
              "      <td>D00-IT</td>\n",
              "      <td>NaN</td>\n",
              "      <td>0.528841</td>\n",
              "      <td>2</td>\n",
              "      <td>NaN</td>\n",
              "      <td>low</td>\n",
              "      <td>0.400464</td>\n",
              "      <td>3.0</td>\n",
              "      <td>119045</td>\n",
              "    </tr>\n",
              "    <tr>\n",
              "      <th>1</th>\n",
              "      <td>221</td>\n",
              "      <td>D00-PD</td>\n",
              "      <td>NaN</td>\n",
              "      <td>0.784561</td>\n",
              "      <td>2</td>\n",
              "      <td>NaN</td>\n",
              "      <td>low</td>\n",
              "      <td>0.759513</td>\n",
              "      <td>3.0</td>\n",
              "      <td>112223</td>\n",
              "    </tr>\n",
              "    <tr>\n",
              "      <th>2</th>\n",
              "      <td>156</td>\n",
              "      <td>D00-SS</td>\n",
              "      <td>NaN</td>\n",
              "      <td>0.545183</td>\n",
              "      <td>2</td>\n",
              "      <td>NaN</td>\n",
              "      <td>medium</td>\n",
              "      <td>0.336457</td>\n",
              "      <td>3.0</td>\n",
              "      <td>103924</td>\n",
              "    </tr>\n",
              "    <tr>\n",
              "      <th>3</th>\n",
              "      <td>133</td>\n",
              "      <td>D00-PR</td>\n",
              "      <td>NaN</td>\n",
              "      <td>NaN</td>\n",
              "      <td>4</td>\n",
              "      <td>NaN</td>\n",
              "      <td>medium</td>\n",
              "      <td>0.832039</td>\n",
              "      <td>2.0</td>\n",
              "      <td>105922</td>\n",
              "    </tr>\n",
              "    <tr>\n",
              "      <th>4</th>\n",
              "      <td>135</td>\n",
              "      <td>D00-SS</td>\n",
              "      <td>NaN</td>\n",
              "      <td>0.454637</td>\n",
              "      <td>2</td>\n",
              "      <td>NaN</td>\n",
              "      <td>low</td>\n",
              "      <td>0.320723</td>\n",
              "      <td>5.0</td>\n",
              "      <td>103297</td>\n",
              "    </tr>\n",
              "  </tbody>\n",
              "</table>\n",
              "</div>"
            ],
            "text/plain": [
              "   avg_monthly_hrs department  ...  tenure  employee_id\n",
              "0              134     D00-IT  ...     3.0       119045\n",
              "1              221     D00-PD  ...     3.0       112223\n",
              "2              156     D00-SS  ...     3.0       103924\n",
              "3              133     D00-PR  ...     2.0       105922\n",
              "4              135     D00-SS  ...     5.0       103297\n",
              "\n",
              "[5 rows x 10 columns]"
            ]
          },
          "metadata": {},
          "execution_count": 155
        }
      ]
    },
    {
      "cell_type": "code",
      "metadata": {
        "colab": {
          "base_uri": "https://localhost:8080/"
        },
        "id": "kgoHF4ZjeheI",
        "outputId": "05438149-ad40-4bfd-b9bf-8caeb48d2977"
      },
      "source": [
        "usd_df.info()"
      ],
      "execution_count": 156,
      "outputs": [
        {
          "output_type": "stream",
          "name": "stdout",
          "text": [
            "<class 'pandas.core.frame.DataFrame'>\n",
            "RangeIndex: 100 entries, 0 to 99\n",
            "Data columns (total 10 columns):\n",
            " #   Column             Non-Null Count  Dtype  \n",
            "---  ------             --------------  -----  \n",
            " 0   avg_monthly_hrs    100 non-null    int64  \n",
            " 1   department         98 non-null     object \n",
            " 2   filed_complaint    15 non-null     float64\n",
            " 3   last_evaluation    83 non-null     float64\n",
            " 4   n_projects         100 non-null    int64  \n",
            " 5   recently_promoted  3 non-null      float64\n",
            " 6   salary             100 non-null    object \n",
            " 7   satisfaction       97 non-null     float64\n",
            " 8   tenure             97 non-null     float64\n",
            " 9   employee_id        100 non-null    int64  \n",
            "dtypes: float64(5), int64(3), object(2)\n",
            "memory usage: 7.9+ KB\n"
          ]
        }
      ]
    },
    {
      "cell_type": "code",
      "metadata": {
        "id": "x6ttnS0pkRIL"
      },
      "source": [
        "# Changing avg_monthly_hours data type to float\n",
        "usd_df['avg_monthly_hrs'] = usd_df.avg_monthly_hrs.astype(float)"
      ],
      "execution_count": 157,
      "outputs": []
    },
    {
      "cell_type": "code",
      "metadata": {
        "id": "Q7acTMESkqT7"
      },
      "source": [
        "usd_df['department'].fillna('D00-SS', inplace=True)"
      ],
      "execution_count": 158,
      "outputs": []
    },
    {
      "cell_type": "code",
      "metadata": {
        "id": "lXOqg9ySrV_R"
      },
      "source": [
        "usd_df['department'].replace({'-IT' : 'D00-IT'}, inplace=True)"
      ],
      "execution_count": 159,
      "outputs": []
    },
    {
      "cell_type": "code",
      "metadata": {
        "id": "p0RL_4kqmQfl"
      },
      "source": [
        "usd_df.drop(labels=['employee_id'], axis=1, inplace=True)"
      ],
      "execution_count": 160,
      "outputs": []
    },
    {
      "cell_type": "code",
      "metadata": {
        "id": "7pHxg6PgmLlR"
      },
      "source": [
        "usd_df['filed_complaint'].fillna(0, inplace=True)\n",
        "usd_df['filed_complaint'] = usd_df.filed_complaint.astype(int)"
      ],
      "execution_count": 161,
      "outputs": []
    },
    {
      "cell_type": "code",
      "metadata": {
        "id": "GHXOgJrfnHOP"
      },
      "source": [
        "usd_df['last_evaluation'].fillna(usd_df['last_evaluation'].median(),inplace=True)"
      ],
      "execution_count": 162,
      "outputs": []
    },
    {
      "cell_type": "code",
      "metadata": {
        "id": "F3AXia_0niL2"
      },
      "source": [
        "usd_df['recently_promoted'].fillna(0, inplace=True)"
      ],
      "execution_count": 163,
      "outputs": []
    },
    {
      "cell_type": "code",
      "metadata": {
        "id": "ZvvW1FVsn0cO"
      },
      "source": [
        "usd_df['satisfaction'].fillna(usd_df['satisfaction'].median(), inplace=True)"
      ],
      "execution_count": 164,
      "outputs": []
    },
    {
      "cell_type": "code",
      "metadata": {
        "id": "r8eJCfdLolso"
      },
      "source": [
        "usd_df['tenure'].fillna(3, inplace=True)   # 3 is mode of 'tenure' feature"
      ],
      "execution_count": 165,
      "outputs": []
    },
    {
      "cell_type": "code",
      "metadata": {
        "id": "-gyXqLhtqH-H"
      },
      "source": [
        "cat_cols_usd = usd_df.select_dtypes(include='object').columns"
      ],
      "execution_count": 166,
      "outputs": []
    },
    {
      "cell_type": "code",
      "metadata": {
        "colab": {
          "base_uri": "https://localhost:8080/"
        },
        "id": "RB7XnZAEqTPf",
        "outputId": "e0d72230-360e-4c41-82d2-c8b58f04a660"
      },
      "source": [
        "cat_cols_usd"
      ],
      "execution_count": 167,
      "outputs": [
        {
          "output_type": "execute_result",
          "data": {
            "text/plain": [
              "Index(['department', 'salary'], dtype='object')"
            ]
          },
          "metadata": {},
          "execution_count": 167
        }
      ]
    },
    {
      "cell_type": "code",
      "metadata": {
        "id": "-7da5z4Vp9m5"
      },
      "source": [
        "usd_df_dum = pd.get_dummies(usd_df, cat_cols_usd)"
      ],
      "execution_count": 168,
      "outputs": []
    },
    {
      "cell_type": "code",
      "metadata": {
        "colab": {
          "base_uri": "https://localhost:8080/"
        },
        "id": "oXupVPO5qc7w",
        "outputId": "549e3312-7d97-47f3-b5a9-db2af898c427"
      },
      "source": [
        "usd_df_dum.info()"
      ],
      "execution_count": 169,
      "outputs": [
        {
          "output_type": "stream",
          "name": "stdout",
          "text": [
            "<class 'pandas.core.frame.DataFrame'>\n",
            "RangeIndex: 100 entries, 0 to 99\n",
            "Data columns (total 21 columns):\n",
            " #   Column              Non-Null Count  Dtype  \n",
            "---  ------              --------------  -----  \n",
            " 0   avg_monthly_hrs     100 non-null    float64\n",
            " 1   filed_complaint     100 non-null    int64  \n",
            " 2   last_evaluation     100 non-null    float64\n",
            " 3   n_projects          100 non-null    int64  \n",
            " 4   recently_promoted   100 non-null    float64\n",
            " 5   satisfaction        100 non-null    float64\n",
            " 6   tenure              100 non-null    float64\n",
            " 7   department_D00-AD   100 non-null    uint8  \n",
            " 8   department_D00-ENG  100 non-null    uint8  \n",
            " 9   department_D00-FN   100 non-null    uint8  \n",
            " 10  department_D00-IT   100 non-null    uint8  \n",
            " 11  department_D00-MN   100 non-null    uint8  \n",
            " 12  department_D00-MT   100 non-null    uint8  \n",
            " 13  department_D00-PD   100 non-null    uint8  \n",
            " 14  department_D00-PR   100 non-null    uint8  \n",
            " 15  department_D00-SP   100 non-null    uint8  \n",
            " 16  department_D00-SS   100 non-null    uint8  \n",
            " 17  department_D00-TP   100 non-null    uint8  \n",
            " 18  salary_high         100 non-null    uint8  \n",
            " 19  salary_low          100 non-null    uint8  \n",
            " 20  salary_medium       100 non-null    uint8  \n",
            "dtypes: float64(5), int64(2), uint8(14)\n",
            "memory usage: 7.0 KB\n"
          ]
        }
      ]
    },
    {
      "cell_type": "code",
      "metadata": {
        "id": "urAGqypFvPhQ"
      },
      "source": [
        "final_pred_rf = rnd_clf2.predict_proba(usd_df_dum)"
      ],
      "execution_count": 176,
      "outputs": []
    },
    {
      "cell_type": "code",
      "metadata": {
        "colab": {
          "base_uri": "https://localhost:8080/"
        },
        "id": "mFStTEwwvcwI",
        "outputId": "20d85186-5381-4f73-af5c-26eb7bc84bd2"
      },
      "source": [
        "final_pred_rf[:,1]"
      ],
      "execution_count": 178,
      "outputs": [
        {
          "output_type": "execute_result",
          "data": {
            "text/plain": [
              "array([1.  , 0.05, 1.  , 0.01, 0.64, 0.  , 0.09, 0.01, 0.  , 0.  , 0.03,\n",
              "       1.  , 0.86, 0.  , 0.03, 0.  , 1.  , 0.01, 0.01, 0.01, 0.97, 1.  ,\n",
              "       0.  , 0.05, 0.57, 0.01, 0.01, 0.02, 0.98, 0.02, 0.01, 0.  , 0.  ,\n",
              "       0.02, 0.  , 0.43, 0.07, 1.  , 0.  , 0.05, 1.  , 0.55, 0.02, 0.03,\n",
              "       0.  , 0.05, 1.  , 0.01, 0.01, 0.04, 0.03, 0.01, 0.03, 0.03, 0.13,\n",
              "       0.  , 0.01, 0.  , 0.  , 0.84, 0.01, 0.94, 0.58, 0.05, 1.  , 0.69,\n",
              "       0.  , 1.  , 0.  , 0.98, 0.12, 0.01, 0.  , 0.15, 0.73, 0.65, 0.08,\n",
              "       0.  , 0.21, 0.01, 0.65, 0.44, 0.13, 0.8 , 0.01, 0.  , 0.  , 0.09,\n",
              "       0.13, 0.03, 0.94, 0.86, 0.18, 0.97, 0.71, 0.  , 0.  , 0.  , 0.  ,\n",
              "       0.08])"
            ]
          },
          "metadata": {},
          "execution_count": 178
        }
      ]
    },
    {
      "cell_type": "code",
      "metadata": {
        "colab": {
          "base_uri": "https://localhost:8080/",
          "height": 17
        },
        "id": "VOv4jKbBvvfd",
        "outputId": "995746c0-1314-45b6-b8be-b530b8e51f5c"
      },
      "source": [
        "from google.colab import files\n",
        "pd.DataFrame(final_pred_rf[:,]).to_csv('final_pred_rf.csv') \n",
        "files.download('final_pred_rf.csv')"
      ],
      "execution_count": 179,
      "outputs": [
        {
          "output_type": "display_data",
          "data": {
            "application/javascript": [
              "\n",
              "    async function download(id, filename, size) {\n",
              "      if (!google.colab.kernel.accessAllowed) {\n",
              "        return;\n",
              "      }\n",
              "      const div = document.createElement('div');\n",
              "      const label = document.createElement('label');\n",
              "      label.textContent = `Downloading \"${filename}\": `;\n",
              "      div.appendChild(label);\n",
              "      const progress = document.createElement('progress');\n",
              "      progress.max = size;\n",
              "      div.appendChild(progress);\n",
              "      document.body.appendChild(div);\n",
              "\n",
              "      const buffers = [];\n",
              "      let downloaded = 0;\n",
              "\n",
              "      const channel = await google.colab.kernel.comms.open(id);\n",
              "      // Send a message to notify the kernel that we're ready.\n",
              "      channel.send({})\n",
              "\n",
              "      for await (const message of channel.messages) {\n",
              "        // Send a message to notify the kernel that we're ready.\n",
              "        channel.send({})\n",
              "        if (message.buffers) {\n",
              "          for (const buffer of message.buffers) {\n",
              "            buffers.push(buffer);\n",
              "            downloaded += buffer.byteLength;\n",
              "            progress.value = downloaded;\n",
              "          }\n",
              "        }\n",
              "      }\n",
              "      const blob = new Blob(buffers, {type: 'application/binary'});\n",
              "      const a = document.createElement('a');\n",
              "      a.href = window.URL.createObjectURL(blob);\n",
              "      a.download = filename;\n",
              "      div.appendChild(a);\n",
              "      a.click();\n",
              "      div.remove();\n",
              "    }\n",
              "  "
            ],
            "text/plain": [
              "<IPython.core.display.Javascript object>"
            ]
          },
          "metadata": {}
        },
        {
          "output_type": "display_data",
          "data": {
            "application/javascript": [
              "download(\"download_8622d87e-7178-4135-8dbd-8b5aa8af888c\", \"final_pred_rf.csv\", 1225)"
            ],
            "text/plain": [
              "<IPython.core.display.Javascript object>"
            ]
          },
          "metadata": {}
        }
      ]
    }
  ]
}